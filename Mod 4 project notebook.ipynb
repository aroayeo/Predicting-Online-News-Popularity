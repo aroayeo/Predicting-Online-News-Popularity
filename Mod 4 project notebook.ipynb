{
 "cells": [
  {
   "cell_type": "markdown",
   "metadata": {},
   "source": [
    "<img src=\"./img/DC_Gray _Logo.png\">"
   ]
  },
  {
   "cell_type": "markdown",
   "metadata": {},
   "source": [
    "<center><h2> Module 4 Project</h2></center>\n",
    "<center><h2> Advanced Regression Models</h2></center>\n",
    "\n",
    "**Authors:** Aroa Gomez and Mohammed Hannan\n"
   ]
  },
  {
   "cell_type": "markdown",
   "metadata": {},
   "source": [
    "#### Business Problem\n",
    "Our client would like to increase the popularity of articles published on their site. They would like to know what features an article should have to increase the number of shares an article receives."
   ]
  },
  {
   "cell_type": "markdown",
   "metadata": {},
   "source": [
    "#### Analysis"
   ]
  },
  {
   "cell_type": "code",
   "execution_count": 1,
   "metadata": {},
   "outputs": [],
   "source": [
    "import pandas as pd\n",
    "import numpy as np\n",
    "import matplotlib.pyplot as plt\n",
    "import seaborn as sns\n",
    "from sklearn.linear_model import LinearRegression\n",
    "from sklearn.model_selection import cross_val_score\n",
    "from sklearn.model_selection import KFold\n",
    "from sklearn.preprocessing import MinMaxScaler\n",
    "from sklearn.model_selection import train_test_split\n",
    "from sklearn.metrics import mean_squared_error\n",
    "from sklearn.preprocessing import PolynomialFeatures\n",
    "from sklearn.linear_model import *\n",
    "from sklearn.linear_model import Lasso\n",
    "from cleaning import *\n",
    "from sklearn.feature_selection import VarianceThreshold\n",
    "from sklearn import metrics\n",
    "from sklearn.preprocessing import Imputer\n",
    "from refactoring import *\n",
    "from cleaning import *"
   ]
  },
  {
   "cell_type": "markdown",
   "metadata": {},
   "source": [
    "#### 1. Linear Regression"
   ]
  },
  {
   "cell_type": "markdown",
   "metadata": {},
   "source": [
    "    Data: Online News Popularity,\n",
    "    source: UCI (University of California, Irvine)"
   ]
  },
  {
   "cell_type": "code",
   "execution_count": 2,
   "metadata": {},
   "outputs": [
    {
     "data": {
      "image/png": "[encoded data removed]",
      "text/plain": [
       "<Figure size 432x288 with 1 Axes>"
      ]
     },
     "metadata": {
      "needs_background": "light"
     },
     "output_type": "display_data"
    }
   ],
   "source": [
    "data = pd.read_csv('OnlineNewsPopularity.csv')\n",
    "data = strip_columns(data)\n",
    "data = log_target(data, 'shares')\n",
    "\n",
    "variables_list = ['shares','timedelta','n_tokens_title', 'n_tokens_content','kw_avg_avg','n_unique_tokens','num_hrefs','num_imgs', 'num_videos', 'num_keywords', \n",
    "           'self_reference_avg_sharess','data_channel_is_lifestyle', 'data_channel_is_entertainment', 'data_channel_is_bus', \n",
    "           'global_sentiment_polarity', 'global_rate_positive_words', 'global_rate_negative_words', \n",
    "           'data_channel_is_socmed', 'data_channel_is_tech','data_channel_is_world', 'is_weekend',\n",
    "           'rate_positive_words','rate_negative_words', 'avg_positive_polarity', 'avg_negative_polarity',\n",
    "           'title_subjectivity','title_sentiment_polarity','LDA_01', 'LDA_02', 'LDA_03', 'LDA_04']\n",
    "\n",
    "data = variables(data, variables_list)\n",
    "data = delete_value(data,'n_unique_tokens')"
   ]
  },
  {
   "cell_type": "code",
   "execution_count": 3,
   "metadata": {},
   "outputs": [],
   "source": [
    "y = data['shares']\n",
    "X = data.drop('shares', axis=1)\n",
    "\n",
    "df_scale = scale(X,y)"
   ]
  },
  {
   "cell_type": "code",
   "execution_count": 4,
   "metadata": {},
   "outputs": [
    {
     "name": "stdout",
     "output_type": "stream",
     "text": [
      "Training R^2 : 0.1051\n",
      "Training Root Mean Square Error 0.88\n",
      "\n",
      "----------------\n",
      "\n",
      "Testing R^2 : 0.1095\n",
      "Testing Root Mean Square Error 0.8785\n"
     ]
    }
   ],
   "source": [
    "# Spliting data: Test-Training\n",
    "X_train , X_test, y_train, y_test = train_test_split(X, y, test_size=0.25, random_state=42)\n",
    "\n",
    "# Fitting the Linear Regression model\n",
    "lr = LinearRegression()\n",
    "model = lr.fit(X_train, y_train)\n",
    "\n",
    "run_model(model, X_train , X_test, y_train, y_test)"
   ]
  },
  {
   "cell_type": "markdown",
   "metadata": {},
   "source": [
    "#### Findings & Application"
   ]
  },
  {
   "cell_type": "markdown",
   "metadata": {},
   "source": [
    "#### Next steps"
   ]
  },
  {
   "cell_type": "code",
   "execution_count": null,
   "metadata": {},
   "outputs": [],
   "source": []
  }
 ],
 "metadata": {
  "kernelspec": {
   "display_name": "Python 3",
   "language": "python",
   "name": "python3"
  },
  "language_info": {
   "codemirror_mode": {
    "name": "ipython",
    "version": 3
   },
   "file_extension": ".py",
   "mimetype": "text/x-python",
   "name": "python",
   "nbconvert_exporter": "python",
   "pygments_lexer": "ipython3",
   "version": "3.7.3"
  }
 },
 "nbformat": 4,
 "nbformat_minor": 4
}
