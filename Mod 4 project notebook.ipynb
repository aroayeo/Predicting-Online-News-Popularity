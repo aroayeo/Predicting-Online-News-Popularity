{
 "cells": [
  {
   "cell_type": "markdown",
   "metadata": {},
   "source": [
    "<img src=\"./img/DC_Gray _Logo.png\">"
   ]
  },
  {
   "cell_type": "markdown",
   "metadata": {},
   "source": [
    "<center><h2> Module 4 Project</h2></center>\n",
    "<center><h2> Advanced Regression Models</h2></center>\n",
    "\n",
    "**Authors:** Aroa Gomez and Mohammed Hannan\n"
   ]
  },
  {
   "cell_type": "markdown",
   "metadata": {},
   "source": [
    "#### Business Problem\n",
    "Our client would like to increase the popularity of articles published on their site. They would like to know what features an article should have to increase the number of shares an article receives."
   ]
  },
  {
   "cell_type": "markdown",
   "metadata": {},
   "source": [
    "#### Analysis"
   ]
  },
  {
   "cell_type": "code",
   "execution_count": 1,
   "metadata": {},
   "outputs": [],
   "source": [
    "import pandas as pd\n",
    "import numpy as np\n",
    "import matplotlib.pyplot as plt\n",
    "import seaborn as sns\n",
    "from sklearn.linear_model import LinearRegression\n",
    "from sklearn.model_selection import cross_val_score\n",
    "from sklearn.model_selection import KFold\n",
    "from sklearn.model_selection import train_test_split\n",
    "from sklearn.metrics import mean_squared_error\n",
    "from sklearn.preprocessing import PolynomialFeatures\n",
    "from cleaning import *\n",
    "from sklearn.feature_selection import VarianceThreshold\n",
    "from sklearn import metrics\n",
    "from refactoring import *\n",
    "from cleaning import *"
   ]
  },
  {
   "cell_type": "markdown",
   "metadata": {},
   "source": [
    "#### 1. Linear Regression"
   ]
  },
  {
   "cell_type": "markdown",
   "metadata": {},
   "source": [
    "    Data: Online News Popularity,\n",
    "    source: UCI (University of California, Irvine)"
   ]
  },
  {
   "cell_type": "code",
   "execution_count": 2,
   "metadata": {},
   "outputs": [
    {
     "data": {
      "image/png": "[encoded data removed]",
      "text/plain": [
       "<Figure size 432x288 with 1 Axes>"
      ]
     },
     "metadata": {
      "needs_background": "light"
     },
     "output_type": "display_data"
    }
   ],
   "source": [
    "data = pd.read_csv('OnlineNewsPopularity.csv')\n",
    "data = strip_columns(data)\n",
    "data = log_target(data, 'shares')\n",
    "\n",
    "variables_list = ['shares', 'log_shares','timedelta','n_tokens_title', 'n_tokens_content','kw_avg_avg','n_unique_tokens','num_hrefs','num_imgs', 'num_videos', 'num_keywords', \n",
    "           'self_reference_avg_sharess','data_channel_is_lifestyle', 'data_channel_is_entertainment', 'data_channel_is_bus', \n",
    "           'global_sentiment_polarity', 'global_rate_positive_words', 'global_rate_negative_words', \n",
    "           'data_channel_is_socmed', 'data_channel_is_tech','data_channel_is_world', 'is_weekend',\n",
    "           'rate_positive_words','rate_negative_words', 'avg_positive_polarity', 'avg_negative_polarity',\n",
    "           'title_subjectivity','title_sentiment_polarity','LDA_01', 'LDA_02', 'LDA_03', 'LDA_04']\n",
    "\n",
    "data = variables(data, variables_list)\n",
    "data = delete_value(data,'n_unique_tokens')"
   ]
  },
  {
   "cell_type": "code",
   "execution_count": 3,
   "metadata": {},
   "outputs": [],
   "source": [
    "y = data['log_shares']\n",
    "X = data.drop(['shares', 'log_shares'], axis=1)"
   ]
  },
  {
   "cell_type": "code",
   "execution_count": 4,
   "metadata": {},
   "outputs": [],
   "source": [
    "# To avoid multicollinearity, we are going to drop columns from X\n",
    "# which have a correlation to other features in X\n",
    "data_subset = drop_high_corrs(X)"
   ]
  },
  {
   "cell_type": "code",
   "execution_count": 5,
   "metadata": {},
   "outputs": [
    {
     "data": {
      "text/plain": [
       "timedelta                        1\n",
       "n_tokens_title                   1\n",
       "kw_avg_avg                       2\n",
       "num_hrefs                        1\n",
       "num_imgs                         1\n",
       "num_videos                       1\n",
       "num_keywords                     1\n",
       "self_reference_avg_sharess       1\n",
       "data_channel_is_lifestyle        1\n",
       "data_channel_is_entertainment    2\n",
       "data_channel_is_bus              1\n",
       "global_rate_positive_words       1\n",
       "global_rate_negative_words       2\n",
       "data_channel_is_socmed           1\n",
       "data_channel_is_tech             2\n",
       "data_channel_is_world            2\n",
       "is_weekend                       1\n",
       "rate_negative_words              2\n",
       "avg_positive_polarity            1\n",
       "avg_negative_polarity            1\n",
       "title_subjectivity               1\n",
       "title_sentiment_polarity         1\n",
       "LDA_01                           2\n",
       "LDA_02                           2\n",
       "LDA_03                           2\n",
       "LDA_04                           2\n",
       "dtype: int64"
      ]
     },
     "execution_count": 5,
     "metadata": {},
     "output_type": "execute_result"
    }
   ],
   "source": [
    "# Check the number of features that are correlated to each other\n",
    "np.sum(np.abs(data_subset.corr()) > 0.4)"
   ]
  },
  {
   "cell_type": "code",
   "execution_count": 6,
   "metadata": {},
   "outputs": [
    {
     "data": {
      "text/html": [
       "<table class=\"simpletable\">\n",
       "<caption>OLS Regression Results</caption>\n",
       "<tr>\n",
       "  <th>Dep. Variable:</th>       <td>log_shares</td>    <th>  R-squared:         </th> <td>   0.106</td> \n",
       "</tr>\n",
       "<tr>\n",
       "  <th>Model:</th>                   <td>OLS</td>       <th>  Adj. R-squared:    </th> <td>   0.105</td> \n",
       "</tr>\n",
       "<tr>\n",
       "  <th>Method:</th>             <td>Least Squares</td>  <th>  F-statistic:       </th> <td>   180.7</td> \n",
       "</tr>\n",
       "<tr>\n",
       "  <th>Date:</th>             <td>Tue, 26 Nov 2019</td> <th>  Prob (F-statistic):</th>  <td>  0.00</td>  \n",
       "</tr>\n",
       "<tr>\n",
       "  <th>Time:</th>                 <td>11:45:49</td>     <th>  Log-Likelihood:    </th> <td> -51172.</td> \n",
       "</tr>\n",
       "<tr>\n",
       "  <th>No. Observations:</th>      <td> 39643</td>      <th>  AIC:               </th> <td>1.024e+05</td>\n",
       "</tr>\n",
       "<tr>\n",
       "  <th>Df Residuals:</th>          <td> 39616</td>      <th>  BIC:               </th> <td>1.026e+05</td>\n",
       "</tr>\n",
       "<tr>\n",
       "  <th>Df Model:</th>              <td>    26</td>      <th>                     </th>     <td> </td>    \n",
       "</tr>\n",
       "<tr>\n",
       "  <th>Covariance Type:</th>      <td>nonrobust</td>    <th>                     </th>     <td> </td>    \n",
       "</tr>\n",
       "</table>\n",
       "<table class=\"simpletable\">\n",
       "<tr>\n",
       "                <td></td>                   <th>coef</th>     <th>std err</th>      <th>t</th>      <th>P>|t|</th>  <th>[0.025</th>    <th>0.975]</th>  \n",
       "</tr>\n",
       "<tr>\n",
       "  <th>Intercept</th>                     <td>    7.2893</td> <td>    0.053</td> <td>  137.810</td> <td> 0.000</td> <td>    7.186</td> <td>    7.393</td>\n",
       "</tr>\n",
       "<tr>\n",
       "  <th>timedelta</th>                     <td>  8.69e-05</td> <td> 2.25e-05</td> <td>    3.856</td> <td> 0.000</td> <td> 4.27e-05</td> <td>    0.000</td>\n",
       "</tr>\n",
       "<tr>\n",
       "  <th>n_tokens_title</th>                <td>    0.0053</td> <td>    0.002</td> <td>    2.429</td> <td> 0.015</td> <td>    0.001</td> <td>    0.010</td>\n",
       "</tr>\n",
       "<tr>\n",
       "  <th>kw_avg_avg</th>                    <td>    0.0001</td> <td> 4.06e-06</td> <td>   26.479</td> <td> 0.000</td> <td> 9.96e-05</td> <td>    0.000</td>\n",
       "</tr>\n",
       "<tr>\n",
       "  <th>num_hrefs</th>                     <td>    0.0043</td> <td>    0.000</td> <td>    9.933</td> <td> 0.000</td> <td>    0.003</td> <td>    0.005</td>\n",
       "</tr>\n",
       "<tr>\n",
       "  <th>num_imgs</th>                      <td>    0.0037</td> <td>    0.001</td> <td>    6.134</td> <td> 0.000</td> <td>    0.002</td> <td>    0.005</td>\n",
       "</tr>\n",
       "<tr>\n",
       "  <th>num_videos</th>                    <td>    0.0019</td> <td>    0.001</td> <td>    1.592</td> <td> 0.111</td> <td>   -0.000</td> <td>    0.004</td>\n",
       "</tr>\n",
       "<tr>\n",
       "  <th>num_keywords</th>                  <td>    0.0145</td> <td>    0.002</td> <td>    5.915</td> <td> 0.000</td> <td>    0.010</td> <td>    0.019</td>\n",
       "</tr>\n",
       "<tr>\n",
       "  <th>self_reference_avg_sharess</th>    <td> 1.781e-06</td> <td> 1.86e-07</td> <td>    9.582</td> <td> 0.000</td> <td> 1.42e-06</td> <td> 2.15e-06</td>\n",
       "</tr>\n",
       "<tr>\n",
       "  <th>data_channel_is_lifestyle</th>     <td>   -0.1166</td> <td>    0.030</td> <td>   -3.949</td> <td> 0.000</td> <td>   -0.174</td> <td>   -0.059</td>\n",
       "</tr>\n",
       "<tr>\n",
       "  <th>data_channel_is_entertainment</th> <td>   -0.2831</td> <td>    0.018</td> <td>  -15.688</td> <td> 0.000</td> <td>   -0.318</td> <td>   -0.248</td>\n",
       "</tr>\n",
       "<tr>\n",
       "  <th>data_channel_is_bus</th>           <td>   -0.2874</td> <td>    0.029</td> <td>  -10.035</td> <td> 0.000</td> <td>   -0.344</td> <td>   -0.231</td>\n",
       "</tr>\n",
       "<tr>\n",
       "  <th>global_rate_positive_words</th>    <td>   -1.7172</td> <td>    0.399</td> <td>   -4.301</td> <td> 0.000</td> <td>   -2.500</td> <td>   -0.935</td>\n",
       "</tr>\n",
       "<tr>\n",
       "  <th>global_rate_negative_words</th>    <td>    3.4106</td> <td>    0.886</td> <td>    3.848</td> <td> 0.000</td> <td>    1.673</td> <td>    5.148</td>\n",
       "</tr>\n",
       "<tr>\n",
       "  <th>data_channel_is_socmed</th>        <td>    0.1025</td> <td>    0.028</td> <td>    3.705</td> <td> 0.000</td> <td>    0.048</td> <td>    0.157</td>\n",
       "</tr>\n",
       "<tr>\n",
       "  <th>data_channel_is_tech</th>          <td>    0.0097</td> <td>    0.028</td> <td>    0.348</td> <td> 0.728</td> <td>   -0.045</td> <td>    0.064</td>\n",
       "</tr>\n",
       "<tr>\n",
       "  <th>data_channel_is_world</th>         <td>   -0.1463</td> <td>    0.028</td> <td>   -5.246</td> <td> 0.000</td> <td>   -0.201</td> <td>   -0.092</td>\n",
       "</tr>\n",
       "<tr>\n",
       "  <th>is_weekend</th>                    <td>    0.2651</td> <td>    0.013</td> <td>   20.065</td> <td> 0.000</td> <td>    0.239</td> <td>    0.291</td>\n",
       "</tr>\n",
       "<tr>\n",
       "  <th>rate_negative_words</th>           <td>   -0.3363</td> <td>    0.068</td> <td>   -4.952</td> <td> 0.000</td> <td>   -0.469</td> <td>   -0.203</td>\n",
       "</tr>\n",
       "<tr>\n",
       "  <th>avg_positive_polarity</th>         <td>   -0.0616</td> <td>    0.049</td> <td>   -1.249</td> <td> 0.212</td> <td>   -0.158</td> <td>    0.035</td>\n",
       "</tr>\n",
       "<tr>\n",
       "  <th>avg_negative_polarity</th>         <td>   -0.2122</td> <td>    0.040</td> <td>   -5.323</td> <td> 0.000</td> <td>   -0.290</td> <td>   -0.134</td>\n",
       "</tr>\n",
       "<tr>\n",
       "  <th>title_subjectivity</th>            <td>    0.0502</td> <td>    0.014</td> <td>    3.491</td> <td> 0.000</td> <td>    0.022</td> <td>    0.078</td>\n",
       "</tr>\n",
       "<tr>\n",
       "  <th>title_sentiment_polarity</th>      <td>    0.0762</td> <td>    0.018</td> <td>    4.314</td> <td> 0.000</td> <td>    0.042</td> <td>    0.111</td>\n",
       "</tr>\n",
       "<tr>\n",
       "  <th>LDA_01</th>                        <td>   -0.3356</td> <td>    0.040</td> <td>   -8.344</td> <td> 0.000</td> <td>   -0.414</td> <td>   -0.257</td>\n",
       "</tr>\n",
       "<tr>\n",
       "  <th>LDA_02</th>                        <td>   -0.5420</td> <td>    0.038</td> <td>  -14.219</td> <td> 0.000</td> <td>   -0.617</td> <td>   -0.467</td>\n",
       "</tr>\n",
       "<tr>\n",
       "  <th>LDA_03</th>                        <td>   -0.2492</td> <td>    0.038</td> <td>   -6.582</td> <td> 0.000</td> <td>   -0.323</td> <td>   -0.175</td>\n",
       "</tr>\n",
       "<tr>\n",
       "  <th>LDA_04</th>                        <td>   -0.2292</td> <td>    0.035</td> <td>   -6.587</td> <td> 0.000</td> <td>   -0.297</td> <td>   -0.161</td>\n",
       "</tr>\n",
       "</table>\n",
       "<table class=\"simpletable\">\n",
       "<tr>\n",
       "  <th>Omnibus:</th>       <td>7157.431</td> <th>  Durbin-Watson:     </th> <td>   1.944</td> \n",
       "</tr>\n",
       "<tr>\n",
       "  <th>Prob(Omnibus):</th>  <td> 0.000</td>  <th>  Jarque-Bera (JB):  </th> <td>19407.046</td>\n",
       "</tr>\n",
       "<tr>\n",
       "  <th>Skew:</th>           <td> 0.977</td>  <th>  Prob(JB):          </th> <td>    0.00</td> \n",
       "</tr>\n",
       "<tr>\n",
       "  <th>Kurtosis:</th>       <td> 5.816</td>  <th>  Cond. No.          </th> <td>5.25e+06</td> \n",
       "</tr>\n",
       "</table><br/><br/>Warnings:<br/>[1] Standard Errors assume that the covariance matrix of the errors is correctly specified.<br/>[2] The condition number is large, 5.25e+06. This might indicate that there are<br/>strong multicollinearity or other numerical problems."
      ],
      "text/plain": [
       "<class 'statsmodels.iolib.summary.Summary'>\n",
       "\"\"\"\n",
       "                            OLS Regression Results                            \n",
       "==============================================================================\n",
       "Dep. Variable:             log_shares   R-squared:                       0.106\n",
       "Model:                            OLS   Adj. R-squared:                  0.105\n",
       "Method:                 Least Squares   F-statistic:                     180.7\n",
       "Date:                Tue, 26 Nov 2019   Prob (F-statistic):               0.00\n",
       "Time:                        11:45:49   Log-Likelihood:                -51172.\n",
       "No. Observations:               39643   AIC:                         1.024e+05\n",
       "Df Residuals:                   39616   BIC:                         1.026e+05\n",
       "Df Model:                          26                                         \n",
       "Covariance Type:            nonrobust                                         \n",
       "=================================================================================================\n",
       "                                    coef    std err          t      P>|t|      [0.025      0.975]\n",
       "-------------------------------------------------------------------------------------------------\n",
       "Intercept                         7.2893      0.053    137.810      0.000       7.186       7.393\n",
       "timedelta                       8.69e-05   2.25e-05      3.856      0.000    4.27e-05       0.000\n",
       "n_tokens_title                    0.0053      0.002      2.429      0.015       0.001       0.010\n",
       "kw_avg_avg                        0.0001   4.06e-06     26.479      0.000    9.96e-05       0.000\n",
       "num_hrefs                         0.0043      0.000      9.933      0.000       0.003       0.005\n",
       "num_imgs                          0.0037      0.001      6.134      0.000       0.002       0.005\n",
       "num_videos                        0.0019      0.001      1.592      0.111      -0.000       0.004\n",
       "num_keywords                      0.0145      0.002      5.915      0.000       0.010       0.019\n",
       "self_reference_avg_sharess     1.781e-06   1.86e-07      9.582      0.000    1.42e-06    2.15e-06\n",
       "data_channel_is_lifestyle        -0.1166      0.030     -3.949      0.000      -0.174      -0.059\n",
       "data_channel_is_entertainment    -0.2831      0.018    -15.688      0.000      -0.318      -0.248\n",
       "data_channel_is_bus              -0.2874      0.029    -10.035      0.000      -0.344      -0.231\n",
       "global_rate_positive_words       -1.7172      0.399     -4.301      0.000      -2.500      -0.935\n",
       "global_rate_negative_words        3.4106      0.886      3.848      0.000       1.673       5.148\n",
       "data_channel_is_socmed            0.1025      0.028      3.705      0.000       0.048       0.157\n",
       "data_channel_is_tech              0.0097      0.028      0.348      0.728      -0.045       0.064\n",
       "data_channel_is_world            -0.1463      0.028     -5.246      0.000      -0.201      -0.092\n",
       "is_weekend                        0.2651      0.013     20.065      0.000       0.239       0.291\n",
       "rate_negative_words              -0.3363      0.068     -4.952      0.000      -0.469      -0.203\n",
       "avg_positive_polarity            -0.0616      0.049     -1.249      0.212      -0.158       0.035\n",
       "avg_negative_polarity            -0.2122      0.040     -5.323      0.000      -0.290      -0.134\n",
       "title_subjectivity                0.0502      0.014      3.491      0.000       0.022       0.078\n",
       "title_sentiment_polarity          0.0762      0.018      4.314      0.000       0.042       0.111\n",
       "LDA_01                           -0.3356      0.040     -8.344      0.000      -0.414      -0.257\n",
       "LDA_02                           -0.5420      0.038    -14.219      0.000      -0.617      -0.467\n",
       "LDA_03                           -0.2492      0.038     -6.582      0.000      -0.323      -0.175\n",
       "LDA_04                           -0.2292      0.035     -6.587      0.000      -0.297      -0.161\n",
       "==============================================================================\n",
       "Omnibus:                     7157.431   Durbin-Watson:                   1.944\n",
       "Prob(Omnibus):                  0.000   Jarque-Bera (JB):            19407.046\n",
       "Skew:                           0.977   Prob(JB):                         0.00\n",
       "Kurtosis:                       5.816   Cond. No.                     5.25e+06\n",
       "==============================================================================\n",
       "\n",
       "Warnings:\n",
       "[1] Standard Errors assume that the covariance matrix of the errors is correctly specified.\n",
       "[2] The condition number is large, 5.25e+06. This might indicate that there are\n",
       "strong multicollinearity or other numerical problems.\n",
       "\"\"\""
      ]
     },
     "execution_count": 6,
     "metadata": {},
     "output_type": "execute_result"
    }
   ],
   "source": [
    "# Using statsmodels to observe p values and remove insignificant features\n",
    "model = ols_model(data_subset, y, 'log_shares')\n",
    "model.summary()"
   ]
  },
  {
   "cell_type": "code",
   "execution_count": 7,
   "metadata": {},
   "outputs": [],
   "source": [
    "high_p_vals = ['num_videos', 'data_channel_is_tech', 'avg_positive_polarity']\n",
    "data_subset.drop(high_p_vals, axis = 1, inplace = True)"
   ]
  },
  {
   "cell_type": "code",
   "execution_count": 8,
   "metadata": {},
   "outputs": [
    {
     "data": {
      "text/html": [
       "<table class=\"simpletable\">\n",
       "<caption>OLS Regression Results</caption>\n",
       "<tr>\n",
       "  <th>Dep. Variable:</th>       <td>log_shares</td>    <th>  R-squared:         </th> <td>   0.106</td> \n",
       "</tr>\n",
       "<tr>\n",
       "  <th>Model:</th>                   <td>OLS</td>       <th>  Adj. R-squared:    </th> <td>   0.105</td> \n",
       "</tr>\n",
       "<tr>\n",
       "  <th>Method:</th>             <td>Least Squares</td>  <th>  F-statistic:       </th> <td>   204.1</td> \n",
       "</tr>\n",
       "<tr>\n",
       "  <th>Date:</th>             <td>Tue, 26 Nov 2019</td> <th>  Prob (F-statistic):</th>  <td>  0.00</td>  \n",
       "</tr>\n",
       "<tr>\n",
       "  <th>Time:</th>                 <td>11:45:52</td>     <th>  Log-Likelihood:    </th> <td> -51174.</td> \n",
       "</tr>\n",
       "<tr>\n",
       "  <th>No. Observations:</th>      <td> 39643</td>      <th>  AIC:               </th> <td>1.024e+05</td>\n",
       "</tr>\n",
       "<tr>\n",
       "  <th>Df Residuals:</th>          <td> 39619</td>      <th>  BIC:               </th> <td>1.026e+05</td>\n",
       "</tr>\n",
       "<tr>\n",
       "  <th>Df Model:</th>              <td>    23</td>      <th>                     </th>     <td> </td>    \n",
       "</tr>\n",
       "<tr>\n",
       "  <th>Covariance Type:</th>      <td>nonrobust</td>    <th>                     </th>     <td> </td>    \n",
       "</tr>\n",
       "</table>\n",
       "<table class=\"simpletable\">\n",
       "<tr>\n",
       "                <td></td>                   <th>coef</th>     <th>std err</th>      <th>t</th>      <th>P>|t|</th>  <th>[0.025</th>    <th>0.975]</th>  \n",
       "</tr>\n",
       "<tr>\n",
       "  <th>Intercept</th>                     <td>    7.2861</td> <td>    0.049</td> <td>  149.533</td> <td> 0.000</td> <td>    7.191</td> <td>    7.382</td>\n",
       "</tr>\n",
       "<tr>\n",
       "  <th>timedelta</th>                     <td> 8.534e-05</td> <td> 2.25e-05</td> <td>    3.794</td> <td> 0.000</td> <td> 4.13e-05</td> <td>    0.000</td>\n",
       "</tr>\n",
       "<tr>\n",
       "  <th>n_tokens_title</th>                <td>    0.0055</td> <td>    0.002</td> <td>    2.508</td> <td> 0.012</td> <td>    0.001</td> <td>    0.010</td>\n",
       "</tr>\n",
       "<tr>\n",
       "  <th>kw_avg_avg</th>                    <td>    0.0001</td> <td> 4.03e-06</td> <td>   26.628</td> <td> 0.000</td> <td> 9.94e-05</td> <td>    0.000</td>\n",
       "</tr>\n",
       "<tr>\n",
       "  <th>num_hrefs</th>                     <td>    0.0044</td> <td>    0.000</td> <td>   10.183</td> <td> 0.000</td> <td>    0.004</td> <td>    0.005</td>\n",
       "</tr>\n",
       "<tr>\n",
       "  <th>num_imgs</th>                      <td>    0.0035</td> <td>    0.001</td> <td>    5.904</td> <td> 0.000</td> <td>    0.002</td> <td>    0.005</td>\n",
       "</tr>\n",
       "<tr>\n",
       "  <th>num_keywords</th>                  <td>    0.0143</td> <td>    0.002</td> <td>    5.868</td> <td> 0.000</td> <td>    0.010</td> <td>    0.019</td>\n",
       "</tr>\n",
       "<tr>\n",
       "  <th>self_reference_avg_sharess</th>    <td> 1.784e-06</td> <td> 1.86e-07</td> <td>    9.602</td> <td> 0.000</td> <td> 1.42e-06</td> <td> 2.15e-06</td>\n",
       "</tr>\n",
       "<tr>\n",
       "  <th>data_channel_is_lifestyle</th>     <td>   -0.1254</td> <td>    0.021</td> <td>   -5.876</td> <td> 0.000</td> <td>   -0.167</td> <td>   -0.084</td>\n",
       "</tr>\n",
       "<tr>\n",
       "  <th>data_channel_is_entertainment</th> <td>   -0.2834</td> <td>    0.017</td> <td>  -17.061</td> <td> 0.000</td> <td>   -0.316</td> <td>   -0.251</td>\n",
       "</tr>\n",
       "<tr>\n",
       "  <th>data_channel_is_bus</th>           <td>   -0.2935</td> <td>    0.023</td> <td>  -12.824</td> <td> 0.000</td> <td>   -0.338</td> <td>   -0.249</td>\n",
       "</tr>\n",
       "<tr>\n",
       "  <th>global_rate_positive_words</th>    <td>   -1.8993</td> <td>    0.372</td> <td>   -5.112</td> <td> 0.000</td> <td>   -2.628</td> <td>   -1.171</td>\n",
       "</tr>\n",
       "<tr>\n",
       "  <th>global_rate_negative_words</th>    <td>    3.7760</td> <td>    0.863</td> <td>    4.377</td> <td> 0.000</td> <td>    2.085</td> <td>    5.467</td>\n",
       "</tr>\n",
       "<tr>\n",
       "  <th>data_channel_is_socmed</th>        <td>    0.0976</td> <td>    0.023</td> <td>    4.255</td> <td> 0.000</td> <td>    0.053</td> <td>    0.143</td>\n",
       "</tr>\n",
       "<tr>\n",
       "  <th>data_channel_is_world</th>         <td>   -0.1517</td> <td>    0.022</td> <td>   -7.002</td> <td> 0.000</td> <td>   -0.194</td> <td>   -0.109</td>\n",
       "</tr>\n",
       "<tr>\n",
       "  <th>is_weekend</th>                    <td>    0.2646</td> <td>    0.013</td> <td>   20.034</td> <td> 0.000</td> <td>    0.239</td> <td>    0.290</td>\n",
       "</tr>\n",
       "<tr>\n",
       "  <th>rate_negative_words</th>           <td>   -0.3655</td> <td>    0.065</td> <td>   -5.604</td> <td> 0.000</td> <td>   -0.493</td> <td>   -0.238</td>\n",
       "</tr>\n",
       "<tr>\n",
       "  <th>avg_negative_polarity</th>         <td>   -0.2081</td> <td>    0.040</td> <td>   -5.260</td> <td> 0.000</td> <td>   -0.286</td> <td>   -0.131</td>\n",
       "</tr>\n",
       "<tr>\n",
       "  <th>title_subjectivity</th>            <td>    0.0504</td> <td>    0.014</td> <td>    3.499</td> <td> 0.000</td> <td>    0.022</td> <td>    0.079</td>\n",
       "</tr>\n",
       "<tr>\n",
       "  <th>title_sentiment_polarity</th>      <td>    0.0756</td> <td>    0.018</td> <td>    4.298</td> <td> 0.000</td> <td>    0.041</td> <td>    0.110</td>\n",
       "</tr>\n",
       "<tr>\n",
       "  <th>LDA_01</th>                        <td>   -0.3420</td> <td>    0.038</td> <td>   -8.987</td> <td> 0.000</td> <td>   -0.417</td> <td>   -0.267</td>\n",
       "</tr>\n",
       "<tr>\n",
       "  <th>LDA_02</th>                        <td>   -0.5413</td> <td>    0.038</td> <td>  -14.204</td> <td> 0.000</td> <td>   -0.616</td> <td>   -0.467</td>\n",
       "</tr>\n",
       "<tr>\n",
       "  <th>LDA_03</th>                        <td>   -0.2504</td> <td>    0.034</td> <td>   -7.408</td> <td> 0.000</td> <td>   -0.317</td> <td>   -0.184</td>\n",
       "</tr>\n",
       "<tr>\n",
       "  <th>LDA_04</th>                        <td>   -0.2256</td> <td>    0.033</td> <td>   -6.861</td> <td> 0.000</td> <td>   -0.290</td> <td>   -0.161</td>\n",
       "</tr>\n",
       "</table>\n",
       "<table class=\"simpletable\">\n",
       "<tr>\n",
       "  <th>Omnibus:</th>       <td>7154.873</td> <th>  Durbin-Watson:     </th> <td>   1.944</td> \n",
       "</tr>\n",
       "<tr>\n",
       "  <th>Prob(Omnibus):</th>  <td> 0.000</td>  <th>  Jarque-Bera (JB):  </th> <td>19377.817</td>\n",
       "</tr>\n",
       "<tr>\n",
       "  <th>Skew:</th>           <td> 0.977</td>  <th>  Prob(JB):          </th> <td>    0.00</td> \n",
       "</tr>\n",
       "<tr>\n",
       "  <th>Kurtosis:</th>       <td> 5.813</td>  <th>  Cond. No.          </th> <td>5.09e+06</td> \n",
       "</tr>\n",
       "</table><br/><br/>Warnings:<br/>[1] Standard Errors assume that the covariance matrix of the errors is correctly specified.<br/>[2] The condition number is large, 5.09e+06. This might indicate that there are<br/>strong multicollinearity or other numerical problems."
      ],
      "text/plain": [
       "<class 'statsmodels.iolib.summary.Summary'>\n",
       "\"\"\"\n",
       "                            OLS Regression Results                            \n",
       "==============================================================================\n",
       "Dep. Variable:             log_shares   R-squared:                       0.106\n",
       "Model:                            OLS   Adj. R-squared:                  0.105\n",
       "Method:                 Least Squares   F-statistic:                     204.1\n",
       "Date:                Tue, 26 Nov 2019   Prob (F-statistic):               0.00\n",
       "Time:                        11:45:52   Log-Likelihood:                -51174.\n",
       "No. Observations:               39643   AIC:                         1.024e+05\n",
       "Df Residuals:                   39619   BIC:                         1.026e+05\n",
       "Df Model:                          23                                         \n",
       "Covariance Type:            nonrobust                                         \n",
       "=================================================================================================\n",
       "                                    coef    std err          t      P>|t|      [0.025      0.975]\n",
       "-------------------------------------------------------------------------------------------------\n",
       "Intercept                         7.2861      0.049    149.533      0.000       7.191       7.382\n",
       "timedelta                      8.534e-05   2.25e-05      3.794      0.000    4.13e-05       0.000\n",
       "n_tokens_title                    0.0055      0.002      2.508      0.012       0.001       0.010\n",
       "kw_avg_avg                        0.0001   4.03e-06     26.628      0.000    9.94e-05       0.000\n",
       "num_hrefs                         0.0044      0.000     10.183      0.000       0.004       0.005\n",
       "num_imgs                          0.0035      0.001      5.904      0.000       0.002       0.005\n",
       "num_keywords                      0.0143      0.002      5.868      0.000       0.010       0.019\n",
       "self_reference_avg_sharess     1.784e-06   1.86e-07      9.602      0.000    1.42e-06    2.15e-06\n",
       "data_channel_is_lifestyle        -0.1254      0.021     -5.876      0.000      -0.167      -0.084\n",
       "data_channel_is_entertainment    -0.2834      0.017    -17.061      0.000      -0.316      -0.251\n",
       "data_channel_is_bus              -0.2935      0.023    -12.824      0.000      -0.338      -0.249\n",
       "global_rate_positive_words       -1.8993      0.372     -5.112      0.000      -2.628      -1.171\n",
       "global_rate_negative_words        3.7760      0.863      4.377      0.000       2.085       5.467\n",
       "data_channel_is_socmed            0.0976      0.023      4.255      0.000       0.053       0.143\n",
       "data_channel_is_world            -0.1517      0.022     -7.002      0.000      -0.194      -0.109\n",
       "is_weekend                        0.2646      0.013     20.034      0.000       0.239       0.290\n",
       "rate_negative_words              -0.3655      0.065     -5.604      0.000      -0.493      -0.238\n",
       "avg_negative_polarity            -0.2081      0.040     -5.260      0.000      -0.286      -0.131\n",
       "title_subjectivity                0.0504      0.014      3.499      0.000       0.022       0.079\n",
       "title_sentiment_polarity          0.0756      0.018      4.298      0.000       0.041       0.110\n",
       "LDA_01                           -0.3420      0.038     -8.987      0.000      -0.417      -0.267\n",
       "LDA_02                           -0.5413      0.038    -14.204      0.000      -0.616      -0.467\n",
       "LDA_03                           -0.2504      0.034     -7.408      0.000      -0.317      -0.184\n",
       "LDA_04                           -0.2256      0.033     -6.861      0.000      -0.290      -0.161\n",
       "==============================================================================\n",
       "Omnibus:                     7154.873   Durbin-Watson:                   1.944\n",
       "Prob(Omnibus):                  0.000   Jarque-Bera (JB):            19377.817\n",
       "Skew:                           0.977   Prob(JB):                         0.00\n",
       "Kurtosis:                       5.813   Cond. No.                     5.09e+06\n",
       "==============================================================================\n",
       "\n",
       "Warnings:\n",
       "[1] Standard Errors assume that the covariance matrix of the errors is correctly specified.\n",
       "[2] The condition number is large, 5.09e+06. This might indicate that there are\n",
       "strong multicollinearity or other numerical problems.\n",
       "\"\"\""
      ]
     },
     "execution_count": 8,
     "metadata": {},
     "output_type": "execute_result"
    }
   ],
   "source": [
    "model = ols_model(data_subset, y, 'log_shares')\n",
    "model.summary()"
   ]
  },
  {
   "cell_type": "code",
   "execution_count": 9,
   "metadata": {},
   "outputs": [
    {
     "data": {
      "image/png": "[encoded data removed]",
      "text/plain": [
       "<Figure size 432x288 with 1 Axes>"
      ]
     },
     "metadata": {
      "needs_background": "light"
     },
     "output_type": "display_data"
    }
   ],
   "source": [
    "qq_plot(model, data_subset, y)"
   ]
  },
  {
   "cell_type": "code",
   "execution_count": 10,
   "metadata": {},
   "outputs": [
    {
     "data": {
      "image/png": "[encoded data removed]",
      "text/plain": [
       "<Figure size 1080x576 with 1 Axes>"
      ]
     },
     "metadata": {
      "needs_background": "light"
     },
     "output_type": "display_data"
    }
   ],
   "source": [
    "var_check(model, data_subset, y)"
   ]
  },
  {
   "cell_type": "code",
   "execution_count": 11,
   "metadata": {},
   "outputs": [
    {
     "name": "stdout",
     "output_type": "stream",
     "text": [
      "0.8 percentile: 3400.0\n",
      "0.81 percentile: 3600.0\n",
      "0.82 percentile: 3700.0\n",
      "0.83 percentile: 3900.0\n",
      "0.84 percentile: 4100.0\n",
      "0.85 percentile: 4400.0\n",
      "0.86 percentile: 4700.0\n",
      "0.87 percentile: 5000.0\n",
      "0.88 percentile: 5300.0\n",
      "0.89 percentile: 5700.0\n",
      "0.9 percentile: 6200.0\n",
      "0.91 percentile: 6700.0\n",
      "0.92 percentile: 7500.0\n",
      "0.93 percentile: 8300.0\n",
      "0.94 percentile: 9400.0\n",
      "0.95 percentile: 10800.0\n",
      "0.96 percentile: 12700.0\n",
      "0.97 percentile: 15700.0\n",
      "0.98 percentile: 20500.0\n",
      "0.01 percentile: 381.0\n",
      "0.02 percentile: 463.0\n",
      "0.03 percentile: 513.26\n",
      "0.04 percentile: 551.0\n",
      "0.05 percentile: 584.0\n",
      "0.06 percentile: 613.0\n",
      "0.07 percentile: 641.0\n",
      "0.08 percentile: 666.0\n",
      "0.09 percentile: 689.0\n",
      "0.1 percentile: 708.0\n",
      "0.11 percentile: 725.0\n",
      "0.12 percentile: 743.0\n",
      "0.13 percentile: 759.0\n",
      "0.14 percentile: 777.0\n",
      "0.15 percentile: 792.0\n",
      "0.16 percentile: 809.0\n",
      "0.17 percentile: 824.0\n",
      "0.18 percentile: 840.0\n",
      "0.19 percentile: 855.0\n"
     ]
    }
   ],
   "source": [
    "# Observe quantiles of target data and look for cutoff points\n",
    "for i in range(80, 99):\n",
    "    q = i / 100\n",
    "    print('{} percentile: {}'.format(q, data['shares'].quantile(q=q)))\n",
    "\n",
    "for i in range(1,20):\n",
    "    q = i/100\n",
    "    print('{} percentile: {}'.format(q, data['shares'].quantile(q=q)))"
   ]
  },
  {
   "cell_type": "code",
   "execution_count": 12,
   "metadata": {},
   "outputs": [],
   "source": [
    "lower_cutoff = 600\n",
    "upper_cutoff = 5500\n",
    "new_data = pd.concat([data_subset, data['shares'],data['log_shares']], axis=1)\n",
    "new_data = new_data[(new_data['shares'] > lower_cutoff) & (new_data['shares'] < upper_cutoff)]\n",
    "data_subset = new_data.drop(['shares', 'log_shares'], axis = 1)\n",
    "y = new_data['log_shares']"
   ]
  },
  {
   "cell_type": "code",
   "execution_count": 13,
   "metadata": {},
   "outputs": [
    {
     "data": {
      "text/html": [
       "<table class=\"simpletable\">\n",
       "<caption>OLS Regression Results</caption>\n",
       "<tr>\n",
       "  <th>Dep. Variable:</th>       <td>log_shares</td>    <th>  R-squared:         </th> <td>   0.103</td> \n",
       "</tr>\n",
       "<tr>\n",
       "  <th>Model:</th>                   <td>OLS</td>       <th>  Adj. R-squared:    </th> <td>   0.102</td> \n",
       "</tr>\n",
       "<tr>\n",
       "  <th>Method:</th>             <td>Least Squares</td>  <th>  F-statistic:       </th> <td>   163.5</td> \n",
       "</tr>\n",
       "<tr>\n",
       "  <th>Date:</th>             <td>Tue, 26 Nov 2019</td> <th>  Prob (F-statistic):</th>  <td>  0.00</td>  \n",
       "</tr>\n",
       "<tr>\n",
       "  <th>Time:</th>                 <td>11:46:10</td>     <th>  Log-Likelihood:    </th> <td> -24779.</td> \n",
       "</tr>\n",
       "<tr>\n",
       "  <th>No. Observations:</th>      <td> 32798</td>      <th>  AIC:               </th> <td>4.961e+04</td>\n",
       "</tr>\n",
       "<tr>\n",
       "  <th>Df Residuals:</th>          <td> 32774</td>      <th>  BIC:               </th> <td>4.981e+04</td>\n",
       "</tr>\n",
       "<tr>\n",
       "  <th>Df Model:</th>              <td>    23</td>      <th>                     </th>     <td> </td>    \n",
       "</tr>\n",
       "<tr>\n",
       "  <th>Covariance Type:</th>      <td>nonrobust</td>    <th>                     </th>     <td> </td>    \n",
       "</tr>\n",
       "</table>\n",
       "<table class=\"simpletable\">\n",
       "<tr>\n",
       "                <td></td>                   <th>coef</th>     <th>std err</th>      <th>t</th>      <th>P>|t|</th>  <th>[0.025</th>    <th>0.975]</th>  \n",
       "</tr>\n",
       "<tr>\n",
       "  <th>Intercept</th>                     <td>    7.3469</td> <td>    0.032</td> <td>  232.140</td> <td> 0.000</td> <td>    7.285</td> <td>    7.409</td>\n",
       "</tr>\n",
       "<tr>\n",
       "  <th>timedelta</th>                     <td> 8.658e-05</td> <td> 1.45e-05</td> <td>    5.986</td> <td> 0.000</td> <td> 5.82e-05</td> <td>    0.000</td>\n",
       "</tr>\n",
       "<tr>\n",
       "  <th>n_tokens_title</th>                <td>   -0.0022</td> <td>    0.001</td> <td>   -1.557</td> <td> 0.119</td> <td>   -0.005</td> <td>    0.001</td>\n",
       "</tr>\n",
       "<tr>\n",
       "  <th>kw_avg_avg</th>                    <td> 5.047e-05</td> <td> 2.83e-06</td> <td>   17.845</td> <td> 0.000</td> <td> 4.49e-05</td> <td>  5.6e-05</td>\n",
       "</tr>\n",
       "<tr>\n",
       "  <th>num_hrefs</th>                     <td>    0.0019</td> <td>    0.000</td> <td>    6.590</td> <td> 0.000</td> <td>    0.001</td> <td>    0.002</td>\n",
       "</tr>\n",
       "<tr>\n",
       "  <th>num_imgs</th>                      <td>    0.0013</td> <td>    0.000</td> <td>    3.269</td> <td> 0.001</td> <td>    0.001</td> <td>    0.002</td>\n",
       "</tr>\n",
       "<tr>\n",
       "  <th>num_keywords</th>                  <td>    0.0098</td> <td>    0.002</td> <td>    6.227</td> <td> 0.000</td> <td>    0.007</td> <td>    0.013</td>\n",
       "</tr>\n",
       "<tr>\n",
       "  <th>self_reference_avg_sharess</th>    <td> 5.835e-07</td> <td>  1.2e-07</td> <td>    4.871</td> <td> 0.000</td> <td> 3.49e-07</td> <td> 8.18e-07</td>\n",
       "</tr>\n",
       "<tr>\n",
       "  <th>data_channel_is_lifestyle</th>     <td>   -0.0917</td> <td>    0.014</td> <td>   -6.601</td> <td> 0.000</td> <td>   -0.119</td> <td>   -0.064</td>\n",
       "</tr>\n",
       "<tr>\n",
       "  <th>data_channel_is_entertainment</th> <td>   -0.1439</td> <td>    0.011</td> <td>  -13.165</td> <td> 0.000</td> <td>   -0.165</td> <td>   -0.122</td>\n",
       "</tr>\n",
       "<tr>\n",
       "  <th>data_channel_is_bus</th>           <td>   -0.1760</td> <td>    0.015</td> <td>  -11.980</td> <td> 0.000</td> <td>   -0.205</td> <td>   -0.147</td>\n",
       "</tr>\n",
       "<tr>\n",
       "  <th>global_rate_positive_words</th>    <td>   -0.7088</td> <td>    0.242</td> <td>   -2.923</td> <td> 0.003</td> <td>   -1.184</td> <td>   -0.234</td>\n",
       "</tr>\n",
       "<tr>\n",
       "  <th>global_rate_negative_words</th>    <td>    2.3727</td> <td>    0.566</td> <td>    4.193</td> <td> 0.000</td> <td>    1.264</td> <td>    3.482</td>\n",
       "</tr>\n",
       "<tr>\n",
       "  <th>data_channel_is_socmed</th>        <td>    0.1353</td> <td>    0.015</td> <td>    9.205</td> <td> 0.000</td> <td>    0.106</td> <td>    0.164</td>\n",
       "</tr>\n",
       "<tr>\n",
       "  <th>data_channel_is_world</th>         <td>   -0.1182</td> <td>    0.014</td> <td>   -8.473</td> <td> 0.000</td> <td>   -0.146</td> <td>   -0.091</td>\n",
       "</tr>\n",
       "<tr>\n",
       "  <th>is_weekend</th>                    <td>    0.2203</td> <td>    0.008</td> <td>   26.081</td> <td> 0.000</td> <td>    0.204</td> <td>    0.237</td>\n",
       "</tr>\n",
       "<tr>\n",
       "  <th>rate_negative_words</th>           <td>   -0.2340</td> <td>    0.043</td> <td>   -5.484</td> <td> 0.000</td> <td>   -0.318</td> <td>   -0.150</td>\n",
       "</tr>\n",
       "<tr>\n",
       "  <th>avg_negative_polarity</th>         <td>   -0.0488</td> <td>    0.026</td> <td>   -1.903</td> <td> 0.057</td> <td>   -0.099</td> <td>    0.001</td>\n",
       "</tr>\n",
       "<tr>\n",
       "  <th>title_subjectivity</th>            <td>    0.0181</td> <td>    0.009</td> <td>    1.936</td> <td> 0.053</td> <td>   -0.000</td> <td>    0.036</td>\n",
       "</tr>\n",
       "<tr>\n",
       "  <th>title_sentiment_polarity</th>      <td>    0.0308</td> <td>    0.012</td> <td>    2.672</td> <td> 0.008</td> <td>    0.008</td> <td>    0.053</td>\n",
       "</tr>\n",
       "<tr>\n",
       "  <th>LDA_01</th>                        <td>   -0.3362</td> <td>    0.025</td> <td>  -13.675</td> <td> 0.000</td> <td>   -0.384</td> <td>   -0.288</td>\n",
       "</tr>\n",
       "<tr>\n",
       "  <th>LDA_02</th>                        <td>   -0.3311</td> <td>    0.024</td> <td>  -13.584</td> <td> 0.000</td> <td>   -0.379</td> <td>   -0.283</td>\n",
       "</tr>\n",
       "<tr>\n",
       "  <th>LDA_03</th>                        <td>   -0.3123</td> <td>    0.022</td> <td>  -14.288</td> <td> 0.000</td> <td>   -0.355</td> <td>   -0.270</td>\n",
       "</tr>\n",
       "<tr>\n",
       "  <th>LDA_04</th>                        <td>   -0.1463</td> <td>    0.021</td> <td>   -6.926</td> <td> 0.000</td> <td>   -0.188</td> <td>   -0.105</td>\n",
       "</tr>\n",
       "</table>\n",
       "<table class=\"simpletable\">\n",
       "<tr>\n",
       "  <th>Omnibus:</th>       <td>1599.628</td> <th>  Durbin-Watson:     </th> <td>   1.951</td>\n",
       "</tr>\n",
       "<tr>\n",
       "  <th>Prob(Omnibus):</th>  <td> 0.000</td>  <th>  Jarque-Bera (JB):  </th> <td>1659.760</td>\n",
       "</tr>\n",
       "<tr>\n",
       "  <th>Skew:</th>           <td> 0.518</td>  <th>  Prob(JB):          </th> <td>    0.00</td>\n",
       "</tr>\n",
       "<tr>\n",
       "  <th>Kurtosis:</th>       <td> 2.626</td>  <th>  Cond. No.          </th> <td>5.14e+06</td>\n",
       "</tr>\n",
       "</table><br/><br/>Warnings:<br/>[1] Standard Errors assume that the covariance matrix of the errors is correctly specified.<br/>[2] The condition number is large, 5.14e+06. This might indicate that there are<br/>strong multicollinearity or other numerical problems."
      ],
      "text/plain": [
       "<class 'statsmodels.iolib.summary.Summary'>\n",
       "\"\"\"\n",
       "                            OLS Regression Results                            \n",
       "==============================================================================\n",
       "Dep. Variable:             log_shares   R-squared:                       0.103\n",
       "Model:                            OLS   Adj. R-squared:                  0.102\n",
       "Method:                 Least Squares   F-statistic:                     163.5\n",
       "Date:                Tue, 26 Nov 2019   Prob (F-statistic):               0.00\n",
       "Time:                        11:46:10   Log-Likelihood:                -24779.\n",
       "No. Observations:               32798   AIC:                         4.961e+04\n",
       "Df Residuals:                   32774   BIC:                         4.981e+04\n",
       "Df Model:                          23                                         \n",
       "Covariance Type:            nonrobust                                         \n",
       "=================================================================================================\n",
       "                                    coef    std err          t      P>|t|      [0.025      0.975]\n",
       "-------------------------------------------------------------------------------------------------\n",
       "Intercept                         7.3469      0.032    232.140      0.000       7.285       7.409\n",
       "timedelta                      8.658e-05   1.45e-05      5.986      0.000    5.82e-05       0.000\n",
       "n_tokens_title                   -0.0022      0.001     -1.557      0.119      -0.005       0.001\n",
       "kw_avg_avg                     5.047e-05   2.83e-06     17.845      0.000    4.49e-05     5.6e-05\n",
       "num_hrefs                         0.0019      0.000      6.590      0.000       0.001       0.002\n",
       "num_imgs                          0.0013      0.000      3.269      0.001       0.001       0.002\n",
       "num_keywords                      0.0098      0.002      6.227      0.000       0.007       0.013\n",
       "self_reference_avg_sharess     5.835e-07    1.2e-07      4.871      0.000    3.49e-07    8.18e-07\n",
       "data_channel_is_lifestyle        -0.0917      0.014     -6.601      0.000      -0.119      -0.064\n",
       "data_channel_is_entertainment    -0.1439      0.011    -13.165      0.000      -0.165      -0.122\n",
       "data_channel_is_bus              -0.1760      0.015    -11.980      0.000      -0.205      -0.147\n",
       "global_rate_positive_words       -0.7088      0.242     -2.923      0.003      -1.184      -0.234\n",
       "global_rate_negative_words        2.3727      0.566      4.193      0.000       1.264       3.482\n",
       "data_channel_is_socmed            0.1353      0.015      9.205      0.000       0.106       0.164\n",
       "data_channel_is_world            -0.1182      0.014     -8.473      0.000      -0.146      -0.091\n",
       "is_weekend                        0.2203      0.008     26.081      0.000       0.204       0.237\n",
       "rate_negative_words              -0.2340      0.043     -5.484      0.000      -0.318      -0.150\n",
       "avg_negative_polarity            -0.0488      0.026     -1.903      0.057      -0.099       0.001\n",
       "title_subjectivity                0.0181      0.009      1.936      0.053      -0.000       0.036\n",
       "title_sentiment_polarity          0.0308      0.012      2.672      0.008       0.008       0.053\n",
       "LDA_01                           -0.3362      0.025    -13.675      0.000      -0.384      -0.288\n",
       "LDA_02                           -0.3311      0.024    -13.584      0.000      -0.379      -0.283\n",
       "LDA_03                           -0.3123      0.022    -14.288      0.000      -0.355      -0.270\n",
       "LDA_04                           -0.1463      0.021     -6.926      0.000      -0.188      -0.105\n",
       "==============================================================================\n",
       "Omnibus:                     1599.628   Durbin-Watson:                   1.951\n",
       "Prob(Omnibus):                  0.000   Jarque-Bera (JB):             1659.760\n",
       "Skew:                           0.518   Prob(JB):                         0.00\n",
       "Kurtosis:                       2.626   Cond. No.                     5.14e+06\n",
       "==============================================================================\n",
       "\n",
       "Warnings:\n",
       "[1] Standard Errors assume that the covariance matrix of the errors is correctly specified.\n",
       "[2] The condition number is large, 5.14e+06. This might indicate that there are\n",
       "strong multicollinearity or other numerical problems.\n",
       "\"\"\""
      ]
     },
     "execution_count": 13,
     "metadata": {},
     "output_type": "execute_result"
    }
   ],
   "source": [
    "model = ols_model(data_subset, y, 'log_shares')\n",
    "model.summary()"
   ]
  },
  {
   "cell_type": "code",
   "execution_count": 14,
   "metadata": {},
   "outputs": [],
   "source": [
    "high_p_vals = ['n_tokens_title', 'num_imgs', 'avg_negative_polarity']\n",
    "data_subset.drop(high_p_vals, axis= 1, inplace= True)"
   ]
  },
  {
   "cell_type": "code",
   "execution_count": 15,
   "metadata": {},
   "outputs": [
    {
     "data": {
      "text/html": [
       "<table class=\"simpletable\">\n",
       "<caption>OLS Regression Results</caption>\n",
       "<tr>\n",
       "  <th>Dep. Variable:</th>       <td>log_shares</td>    <th>  R-squared:         </th> <td>   0.102</td> \n",
       "</tr>\n",
       "<tr>\n",
       "  <th>Model:</th>                   <td>OLS</td>       <th>  Adj. R-squared:    </th> <td>   0.102</td> \n",
       "</tr>\n",
       "<tr>\n",
       "  <th>Method:</th>             <td>Least Squares</td>  <th>  F-statistic:       </th> <td>   187.1</td> \n",
       "</tr>\n",
       "<tr>\n",
       "  <th>Date:</th>             <td>Tue, 26 Nov 2019</td> <th>  Prob (F-statistic):</th>  <td>  0.00</td>  \n",
       "</tr>\n",
       "<tr>\n",
       "  <th>Time:</th>                 <td>11:46:22</td>     <th>  Log-Likelihood:    </th> <td> -24787.</td> \n",
       "</tr>\n",
       "<tr>\n",
       "  <th>No. Observations:</th>      <td> 32798</td>      <th>  AIC:               </th> <td>4.962e+04</td>\n",
       "</tr>\n",
       "<tr>\n",
       "  <th>Df Residuals:</th>          <td> 32777</td>      <th>  BIC:               </th> <td>4.979e+04</td>\n",
       "</tr>\n",
       "<tr>\n",
       "  <th>Df Model:</th>              <td>    20</td>      <th>                     </th>     <td> </td>    \n",
       "</tr>\n",
       "<tr>\n",
       "  <th>Covariance Type:</th>      <td>nonrobust</td>    <th>                     </th>     <td> </td>    \n",
       "</tr>\n",
       "</table>\n",
       "<table class=\"simpletable\">\n",
       "<tr>\n",
       "                <td></td>                   <th>coef</th>     <th>std err</th>      <th>t</th>      <th>P>|t|</th>  <th>[0.025</th>    <th>0.975]</th>  \n",
       "</tr>\n",
       "<tr>\n",
       "  <th>Intercept</th>                     <td>    7.3254</td> <td>    0.028</td> <td>  263.337</td> <td> 0.000</td> <td>    7.271</td> <td>    7.380</td>\n",
       "</tr>\n",
       "<tr>\n",
       "  <th>timedelta</th>                     <td>  9.05e-05</td> <td> 1.41e-05</td> <td>    6.403</td> <td> 0.000</td> <td> 6.28e-05</td> <td>    0.000</td>\n",
       "</tr>\n",
       "<tr>\n",
       "  <th>kw_avg_avg</th>                    <td> 5.092e-05</td> <td> 2.83e-06</td> <td>   18.021</td> <td> 0.000</td> <td> 4.54e-05</td> <td> 5.65e-05</td>\n",
       "</tr>\n",
       "<tr>\n",
       "  <th>num_hrefs</th>                     <td>    0.0023</td> <td>    0.000</td> <td>    8.362</td> <td> 0.000</td> <td>    0.002</td> <td>    0.003</td>\n",
       "</tr>\n",
       "<tr>\n",
       "  <th>num_keywords</th>                  <td>    0.0098</td> <td>    0.002</td> <td>    6.261</td> <td> 0.000</td> <td>    0.007</td> <td>    0.013</td>\n",
       "</tr>\n",
       "<tr>\n",
       "  <th>self_reference_avg_sharess</th>    <td> 5.879e-07</td> <td>  1.2e-07</td> <td>    4.910</td> <td> 0.000</td> <td> 3.53e-07</td> <td> 8.23e-07</td>\n",
       "</tr>\n",
       "<tr>\n",
       "  <th>data_channel_is_lifestyle</th>     <td>   -0.0915</td> <td>    0.014</td> <td>   -6.590</td> <td> 0.000</td> <td>   -0.119</td> <td>   -0.064</td>\n",
       "</tr>\n",
       "<tr>\n",
       "  <th>data_channel_is_entertainment</th> <td>   -0.1444</td> <td>    0.011</td> <td>  -13.259</td> <td> 0.000</td> <td>   -0.166</td> <td>   -0.123</td>\n",
       "</tr>\n",
       "<tr>\n",
       "  <th>data_channel_is_bus</th>           <td>   -0.1785</td> <td>    0.015</td> <td>  -12.165</td> <td> 0.000</td> <td>   -0.207</td> <td>   -0.150</td>\n",
       "</tr>\n",
       "<tr>\n",
       "  <th>global_rate_positive_words</th>    <td>   -0.6293</td> <td>    0.235</td> <td>   -2.680</td> <td> 0.007</td> <td>   -1.089</td> <td>   -0.169</td>\n",
       "</tr>\n",
       "<tr>\n",
       "  <th>global_rate_negative_words</th>    <td>    2.2894</td> <td>    0.564</td> <td>    4.056</td> <td> 0.000</td> <td>    1.183</td> <td>    3.396</td>\n",
       "</tr>\n",
       "<tr>\n",
       "  <th>data_channel_is_socmed</th>        <td>    0.1352</td> <td>    0.015</td> <td>    9.200</td> <td> 0.000</td> <td>    0.106</td> <td>    0.164</td>\n",
       "</tr>\n",
       "<tr>\n",
       "  <th>data_channel_is_world</th>         <td>   -0.1211</td> <td>    0.014</td> <td>   -8.698</td> <td> 0.000</td> <td>   -0.148</td> <td>   -0.094</td>\n",
       "</tr>\n",
       "<tr>\n",
       "  <th>is_weekend</th>                    <td>    0.2211</td> <td>    0.008</td> <td>   26.181</td> <td> 0.000</td> <td>    0.205</td> <td>    0.238</td>\n",
       "</tr>\n",
       "<tr>\n",
       "  <th>rate_negative_words</th>           <td>   -0.2119</td> <td>    0.041</td> <td>   -5.145</td> <td> 0.000</td> <td>   -0.293</td> <td>   -0.131</td>\n",
       "</tr>\n",
       "<tr>\n",
       "  <th>title_subjectivity</th>            <td>    0.0180</td> <td>    0.009</td> <td>    1.930</td> <td> 0.054</td> <td>   -0.000</td> <td>    0.036</td>\n",
       "</tr>\n",
       "<tr>\n",
       "  <th>title_sentiment_polarity</th>      <td>    0.0305</td> <td>    0.012</td> <td>    2.655</td> <td> 0.008</td> <td>    0.008</td> <td>    0.053</td>\n",
       "</tr>\n",
       "<tr>\n",
       "  <th>LDA_01</th>                        <td>   -0.3311</td> <td>    0.025</td> <td>  -13.494</td> <td> 0.000</td> <td>   -0.379</td> <td>   -0.283</td>\n",
       "</tr>\n",
       "<tr>\n",
       "  <th>LDA_02</th>                        <td>   -0.3298</td> <td>    0.024</td> <td>  -13.547</td> <td> 0.000</td> <td>   -0.377</td> <td>   -0.282</td>\n",
       "</tr>\n",
       "<tr>\n",
       "  <th>LDA_03</th>                        <td>   -0.3060</td> <td>    0.022</td> <td>  -14.063</td> <td> 0.000</td> <td>   -0.349</td> <td>   -0.263</td>\n",
       "</tr>\n",
       "<tr>\n",
       "  <th>LDA_04</th>                        <td>   -0.1454</td> <td>    0.021</td> <td>   -6.895</td> <td> 0.000</td> <td>   -0.187</td> <td>   -0.104</td>\n",
       "</tr>\n",
       "</table>\n",
       "<table class=\"simpletable\">\n",
       "<tr>\n",
       "  <th>Omnibus:</th>       <td>1603.125</td> <th>  Durbin-Watson:     </th> <td>   1.951</td>\n",
       "</tr>\n",
       "<tr>\n",
       "  <th>Prob(Omnibus):</th>  <td> 0.000</td>  <th>  Jarque-Bera (JB):  </th> <td>1662.985</td>\n",
       "</tr>\n",
       "<tr>\n",
       "  <th>Skew:</th>           <td> 0.519</td>  <th>  Prob(JB):          </th> <td>    0.00</td>\n",
       "</tr>\n",
       "<tr>\n",
       "  <th>Kurtosis:</th>       <td> 2.625</td>  <th>  Cond. No.          </th> <td>5.12e+06</td>\n",
       "</tr>\n",
       "</table><br/><br/>Warnings:<br/>[1] Standard Errors assume that the covariance matrix of the errors is correctly specified.<br/>[2] The condition number is large, 5.12e+06. This might indicate that there are<br/>strong multicollinearity or other numerical problems."
      ],
      "text/plain": [
       "<class 'statsmodels.iolib.summary.Summary'>\n",
       "\"\"\"\n",
       "                            OLS Regression Results                            \n",
       "==============================================================================\n",
       "Dep. Variable:             log_shares   R-squared:                       0.102\n",
       "Model:                            OLS   Adj. R-squared:                  0.102\n",
       "Method:                 Least Squares   F-statistic:                     187.1\n",
       "Date:                Tue, 26 Nov 2019   Prob (F-statistic):               0.00\n",
       "Time:                        11:46:22   Log-Likelihood:                -24787.\n",
       "No. Observations:               32798   AIC:                         4.962e+04\n",
       "Df Residuals:                   32777   BIC:                         4.979e+04\n",
       "Df Model:                          20                                         \n",
       "Covariance Type:            nonrobust                                         \n",
       "=================================================================================================\n",
       "                                    coef    std err          t      P>|t|      [0.025      0.975]\n",
       "-------------------------------------------------------------------------------------------------\n",
       "Intercept                         7.3254      0.028    263.337      0.000       7.271       7.380\n",
       "timedelta                       9.05e-05   1.41e-05      6.403      0.000    6.28e-05       0.000\n",
       "kw_avg_avg                     5.092e-05   2.83e-06     18.021      0.000    4.54e-05    5.65e-05\n",
       "num_hrefs                         0.0023      0.000      8.362      0.000       0.002       0.003\n",
       "num_keywords                      0.0098      0.002      6.261      0.000       0.007       0.013\n",
       "self_reference_avg_sharess     5.879e-07    1.2e-07      4.910      0.000    3.53e-07    8.23e-07\n",
       "data_channel_is_lifestyle        -0.0915      0.014     -6.590      0.000      -0.119      -0.064\n",
       "data_channel_is_entertainment    -0.1444      0.011    -13.259      0.000      -0.166      -0.123\n",
       "data_channel_is_bus              -0.1785      0.015    -12.165      0.000      -0.207      -0.150\n",
       "global_rate_positive_words       -0.6293      0.235     -2.680      0.007      -1.089      -0.169\n",
       "global_rate_negative_words        2.2894      0.564      4.056      0.000       1.183       3.396\n",
       "data_channel_is_socmed            0.1352      0.015      9.200      0.000       0.106       0.164\n",
       "data_channel_is_world            -0.1211      0.014     -8.698      0.000      -0.148      -0.094\n",
       "is_weekend                        0.2211      0.008     26.181      0.000       0.205       0.238\n",
       "rate_negative_words              -0.2119      0.041     -5.145      0.000      -0.293      -0.131\n",
       "title_subjectivity                0.0180      0.009      1.930      0.054      -0.000       0.036\n",
       "title_sentiment_polarity          0.0305      0.012      2.655      0.008       0.008       0.053\n",
       "LDA_01                           -0.3311      0.025    -13.494      0.000      -0.379      -0.283\n",
       "LDA_02                           -0.3298      0.024    -13.547      0.000      -0.377      -0.282\n",
       "LDA_03                           -0.3060      0.022    -14.063      0.000      -0.349      -0.263\n",
       "LDA_04                           -0.1454      0.021     -6.895      0.000      -0.187      -0.104\n",
       "==============================================================================\n",
       "Omnibus:                     1603.125   Durbin-Watson:                   1.951\n",
       "Prob(Omnibus):                  0.000   Jarque-Bera (JB):             1662.985\n",
       "Skew:                           0.519   Prob(JB):                         0.00\n",
       "Kurtosis:                       2.625   Cond. No.                     5.12e+06\n",
       "==============================================================================\n",
       "\n",
       "Warnings:\n",
       "[1] Standard Errors assume that the covariance matrix of the errors is correctly specified.\n",
       "[2] The condition number is large, 5.12e+06. This might indicate that there are\n",
       "strong multicollinearity or other numerical problems.\n",
       "\"\"\""
      ]
     },
     "execution_count": 15,
     "metadata": {},
     "output_type": "execute_result"
    }
   ],
   "source": [
    "model = ols_model(data_subset, y, 'log_shares')\n",
    "model.summary()"
   ]
  },
  {
   "cell_type": "code",
   "execution_count": 16,
   "metadata": {},
   "outputs": [
    {
     "data": {
      "image/png": "[encoded data removed]",
      "text/plain": [
       "<Figure size 432x288 with 1 Axes>"
      ]
     },
     "metadata": {
      "needs_background": "light"
     },
     "output_type": "display_data"
    }
   ],
   "source": [
    "qq_plot(model, data_subset, y)"
   ]
  },
  {
   "cell_type": "code",
   "execution_count": 17,
   "metadata": {},
   "outputs": [
    {
     "name": "stdout",
     "output_type": "stream",
     "text": [
      "Training R^2 : 0.1024\n",
      "Training Root Mean Square Error 0.5152\n",
      "\n",
      "----------------\n",
      "\n",
      "Testing R^2 : 0.1021\n",
      "Testing Root Mean Square Error 0.5154\n"
     ]
    },
    {
     "data": {
      "image/png": "[encoded data removed]",
      "text/plain": [
       "<Figure size 432x288 with 1 Axes>"
      ]
     },
     "metadata": {
      "needs_background": "light"
     },
     "output_type": "display_data"
    }
   ],
   "source": [
    "# Fit to a linear regression model\n",
    "X_train , X_test, y_train, y_test = train_test_split(data_subset, y, test_size=0.25, random_state=42)\n",
    "linreg = LinearRegression()\n",
    "model = linreg.fit(X_train, y_train)\n",
    "run_model(model, X_train, X_test, y_train, y_test)"
   ]
  },
  {
   "cell_type": "code",
   "execution_count": 18,
   "metadata": {},
   "outputs": [
    {
     "name": "stdout",
     "output_type": "stream",
     "text": [
      "Training R^2 : 0.1388\n",
      "Training Root Mean Square Error 0.5047\n",
      "\n",
      "----------------\n",
      "\n",
      "Testing R^2 : 0.1239\n",
      "Testing Root Mean Square Error 0.5091\n"
     ]
    },
    {
     "data": {
      "image/png": "[encoded data removed]",
      "text/plain": [
       "<Figure size 432x288 with 1 Axes>"
      ]
     },
     "metadata": {
      "needs_background": "light"
     },
     "output_type": "display_data"
    }
   ],
   "source": [
    "# Fit to a polynomial model of degree 2\n",
    "# Too many features to model to a higher degree\n",
    "compare_poly(X_train, X_test, y_train, y_test)"
   ]
  },
  {
   "cell_type": "markdown",
   "metadata": {},
   "source": [
    "A polynomial model of degree 2 has a greater R^2 score than a simple linear model. We are going to use KFolds to validate our results"
   ]
  },
  {
   "cell_type": "code",
   "execution_count": 21,
   "metadata": {},
   "outputs": [
    {
     "data": {
      "text/plain": [
       "0.12337790900447616"
      ]
     },
     "execution_count": 21,
     "metadata": {},
     "output_type": "execute_result"
    }
   ],
   "source": [
    "# Cross validation\n",
    "poly = PolynomialFeatures(2)\n",
    "data_poly = poly.fit_transform(data_subset)\n",
    "crossvalidation = KFold(n_splits=5, shuffle=True, random_state=42)\n",
    "avg_score = np.mean(cross_val_score(model, data_poly, y, scoring='r2', cv=crossvalidation))\n",
    "avg_score"
   ]
  },
  {
   "cell_type": "markdown",
   "metadata": {},
   "source": [
    "#### Findings & Application"
   ]
  },
  {
   "cell_type": "markdown",
   "metadata": {},
   "source": [
    "#### Popularity by Topic"
   ]
  },
  {
   "cell_type": "markdown",
   "metadata": {},
   "source": [
    "Our data sample shows that lifestyle and social media articles are less popular in terms of number of times it gets shared. World news and technology news are the most populare among Mashable.com readers."
   ]
  },
  {
   "cell_type": "code",
   "execution_count": 3,
   "metadata": {},
   "outputs": [
    {
     "data": {
      "image/png": "[encoded data removed]",
      "text/plain": [
       "<Figure size 432x288 with 1 Axes>"
      ]
     },
     "metadata": {
      "needs_background": "light"
     },
     "output_type": "display_data"
    }
   ],
   "source": [
    "channel_list = ['data_channel_is_lifestyle', 'data_channel_is_entertainment', 'data_channel_is_bus', \n",
    "               'data_channel_is_socmed', 'data_channel_is_tech','data_channel_is_world']\n",
    "\n",
    "channel_graph(data, channel_list)"
   ]
  },
  {
   "cell_type": "markdown",
   "metadata": {},
   "source": [
    "#### Popularity Along the Week"
   ]
  },
  {
   "cell_type": "markdown",
   "metadata": {},
   "source": [
    "News articles are more popular during the week than on the weekends. We observe a decrease starting on Friday."
   ]
  },
  {
   "cell_type": "code",
   "execution_count": 3,
   "metadata": {},
   "outputs": [
    {
     "data": {
      "image/png": "[encoded data removed]",
      "text/plain": [
       "<Figure size 432x288 with 1 Axes>"
      ]
     },
     "metadata": {
      "needs_background": "light"
     },
     "output_type": "display_data"
    }
   ],
   "source": [
    "weekdays = ['weekday_is_monday', 'weekday_is_tuesday','weekday_is_wednesday', 'weekday_is_thursday', \n",
    "            'weekday_is_friday','weekday_is_saturday', 'weekday_is_sunday']\n",
    "\n",
    "weekday_graph(data, weekdays)"
   ]
  },
  {
   "cell_type": "markdown",
   "metadata": {},
   "source": [
    "Our Regression Models are limited on their prediction power. The most we can explain with the dataset in hand is 0.14 of the variability of number of shares. "
   ]
  },
  {
   "cell_type": "markdown",
   "metadata": {},
   "source": [
    "#### Next steps"
   ]
  },
  {
   "cell_type": "markdown",
   "metadata": {},
   "source": [
    "\n",
    "We only have observations for a particular news provider. Exanding the data set to the top news provider could potentially add insights on the readers preferences\n",
    "\n",
    "A larger dataset over a larger period of time would add more observations and probably better understanding\n",
    "\n",
    "Adding more features that could determine the quality of the article could improve our model\n",
    "\n",
    "Try different analysis approach; determine what level of shares is popular and what isn't and run a logistic regression model\n"
   ]
  }
 ],
 "metadata": {
  "kernelspec": {
   "display_name": "Python 3",
   "language": "python",
   "name": "python3"
  },
  "language_info": {
   "codemirror_mode": {
    "name": "ipython",
    "version": 3
   },
   "file_extension": ".py",
   "mimetype": "text/x-python",
   "name": "python",
   "nbconvert_exporter": "python",
   "pygments_lexer": "ipython3",
   "version": "3.7.3"
  }
 },
 "nbformat": 4,
 "nbformat_minor": 4
}
