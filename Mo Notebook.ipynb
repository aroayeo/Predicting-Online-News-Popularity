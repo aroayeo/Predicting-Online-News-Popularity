{
 "cells": [
  {
   "cell_type": "code",
   "execution_count": 1,
   "metadata": {},
   "outputs": [],
   "source": [
    "import pandas as pd\n",
    "import numpy as np\n",
    "import matplotlib.pyplot as plt\n",
    "import seaborn as sns\n",
    "from cleaning import *\n",
    "from refactoring import *\n",
    "%matplotlib inline\n"
   ]
  },
  {
   "cell_type": "code",
   "execution_count": 2,
   "metadata": {},
   "outputs": [],
   "source": [
    "data = pd.read_csv('OnlineNewsPopularity.csv')"
   ]
  },
  {
   "cell_type": "code",
   "execution_count": 3,
   "metadata": {},
   "outputs": [],
   "source": [
    "data = data.rename(columns=lambda x: x.strip())"
   ]
  },
  {
   "cell_type": "code",
   "execution_count": 4,
   "metadata": {},
   "outputs": [
    {
     "data": {
      "text/html": [
       "<div>\n",
       "<style scoped>\n",
       "    .dataframe tbody tr th:only-of-type {\n",
       "        vertical-align: middle;\n",
       "    }\n",
       "\n",
       "    .dataframe tbody tr th {\n",
       "        vertical-align: top;\n",
       "    }\n",
       "\n",
       "    .dataframe thead th {\n",
       "        text-align: right;\n",
       "    }\n",
       "</style>\n",
       "<table border=\"1\" class=\"dataframe\">\n",
       "  <thead>\n",
       "    <tr style=\"text-align: right;\">\n",
       "      <th></th>\n",
       "      <th>url</th>\n",
       "      <th>timedelta</th>\n",
       "      <th>n_tokens_title</th>\n",
       "      <th>n_tokens_content</th>\n",
       "      <th>n_unique_tokens</th>\n",
       "      <th>n_non_stop_words</th>\n",
       "      <th>n_non_stop_unique_tokens</th>\n",
       "      <th>num_hrefs</th>\n",
       "      <th>num_self_hrefs</th>\n",
       "      <th>num_imgs</th>\n",
       "      <th>...</th>\n",
       "      <th>min_positive_polarity</th>\n",
       "      <th>max_positive_polarity</th>\n",
       "      <th>avg_negative_polarity</th>\n",
       "      <th>min_negative_polarity</th>\n",
       "      <th>max_negative_polarity</th>\n",
       "      <th>title_subjectivity</th>\n",
       "      <th>title_sentiment_polarity</th>\n",
       "      <th>abs_title_subjectivity</th>\n",
       "      <th>abs_title_sentiment_polarity</th>\n",
       "      <th>shares</th>\n",
       "    </tr>\n",
       "  </thead>\n",
       "  <tbody>\n",
       "    <tr>\n",
       "      <td>0</td>\n",
       "      <td>http://mashable.com/2013/01/07/amazon-instant-...</td>\n",
       "      <td>731.0</td>\n",
       "      <td>12.0</td>\n",
       "      <td>219.0</td>\n",
       "      <td>0.663594</td>\n",
       "      <td>1.0</td>\n",
       "      <td>0.815385</td>\n",
       "      <td>4.0</td>\n",
       "      <td>2.0</td>\n",
       "      <td>1.0</td>\n",
       "      <td>...</td>\n",
       "      <td>0.100000</td>\n",
       "      <td>0.7</td>\n",
       "      <td>-0.350000</td>\n",
       "      <td>-0.600</td>\n",
       "      <td>-0.200000</td>\n",
       "      <td>0.500000</td>\n",
       "      <td>-0.187500</td>\n",
       "      <td>0.000000</td>\n",
       "      <td>0.187500</td>\n",
       "      <td>593</td>\n",
       "    </tr>\n",
       "    <tr>\n",
       "      <td>1</td>\n",
       "      <td>http://mashable.com/2013/01/07/ap-samsung-spon...</td>\n",
       "      <td>731.0</td>\n",
       "      <td>9.0</td>\n",
       "      <td>255.0</td>\n",
       "      <td>0.604743</td>\n",
       "      <td>1.0</td>\n",
       "      <td>0.791946</td>\n",
       "      <td>3.0</td>\n",
       "      <td>1.0</td>\n",
       "      <td>1.0</td>\n",
       "      <td>...</td>\n",
       "      <td>0.033333</td>\n",
       "      <td>0.7</td>\n",
       "      <td>-0.118750</td>\n",
       "      <td>-0.125</td>\n",
       "      <td>-0.100000</td>\n",
       "      <td>0.000000</td>\n",
       "      <td>0.000000</td>\n",
       "      <td>0.500000</td>\n",
       "      <td>0.000000</td>\n",
       "      <td>711</td>\n",
       "    </tr>\n",
       "    <tr>\n",
       "      <td>2</td>\n",
       "      <td>http://mashable.com/2013/01/07/apple-40-billio...</td>\n",
       "      <td>731.0</td>\n",
       "      <td>9.0</td>\n",
       "      <td>211.0</td>\n",
       "      <td>0.575130</td>\n",
       "      <td>1.0</td>\n",
       "      <td>0.663866</td>\n",
       "      <td>3.0</td>\n",
       "      <td>1.0</td>\n",
       "      <td>1.0</td>\n",
       "      <td>...</td>\n",
       "      <td>0.100000</td>\n",
       "      <td>1.0</td>\n",
       "      <td>-0.466667</td>\n",
       "      <td>-0.800</td>\n",
       "      <td>-0.133333</td>\n",
       "      <td>0.000000</td>\n",
       "      <td>0.000000</td>\n",
       "      <td>0.500000</td>\n",
       "      <td>0.000000</td>\n",
       "      <td>1500</td>\n",
       "    </tr>\n",
       "    <tr>\n",
       "      <td>3</td>\n",
       "      <td>http://mashable.com/2013/01/07/astronaut-notre...</td>\n",
       "      <td>731.0</td>\n",
       "      <td>9.0</td>\n",
       "      <td>531.0</td>\n",
       "      <td>0.503788</td>\n",
       "      <td>1.0</td>\n",
       "      <td>0.665635</td>\n",
       "      <td>9.0</td>\n",
       "      <td>0.0</td>\n",
       "      <td>1.0</td>\n",
       "      <td>...</td>\n",
       "      <td>0.136364</td>\n",
       "      <td>0.8</td>\n",
       "      <td>-0.369697</td>\n",
       "      <td>-0.600</td>\n",
       "      <td>-0.166667</td>\n",
       "      <td>0.000000</td>\n",
       "      <td>0.000000</td>\n",
       "      <td>0.500000</td>\n",
       "      <td>0.000000</td>\n",
       "      <td>1200</td>\n",
       "    </tr>\n",
       "    <tr>\n",
       "      <td>4</td>\n",
       "      <td>http://mashable.com/2013/01/07/att-u-verse-apps/</td>\n",
       "      <td>731.0</td>\n",
       "      <td>13.0</td>\n",
       "      <td>1072.0</td>\n",
       "      <td>0.415646</td>\n",
       "      <td>1.0</td>\n",
       "      <td>0.540890</td>\n",
       "      <td>19.0</td>\n",
       "      <td>19.0</td>\n",
       "      <td>20.0</td>\n",
       "      <td>...</td>\n",
       "      <td>0.033333</td>\n",
       "      <td>1.0</td>\n",
       "      <td>-0.220192</td>\n",
       "      <td>-0.500</td>\n",
       "      <td>-0.050000</td>\n",
       "      <td>0.454545</td>\n",
       "      <td>0.136364</td>\n",
       "      <td>0.045455</td>\n",
       "      <td>0.136364</td>\n",
       "      <td>505</td>\n",
       "    </tr>\n",
       "  </tbody>\n",
       "</table>\n",
       "<p>5 rows × 61 columns</p>\n",
       "</div>"
      ],
      "text/plain": [
       "                                                 url  timedelta  \\\n",
       "0  http://mashable.com/2013/01/07/amazon-instant-...      731.0   \n",
       "1  http://mashable.com/2013/01/07/ap-samsung-spon...      731.0   \n",
       "2  http://mashable.com/2013/01/07/apple-40-billio...      731.0   \n",
       "3  http://mashable.com/2013/01/07/astronaut-notre...      731.0   \n",
       "4   http://mashable.com/2013/01/07/att-u-verse-apps/      731.0   \n",
       "\n",
       "   n_tokens_title  n_tokens_content  n_unique_tokens  n_non_stop_words  \\\n",
       "0            12.0             219.0         0.663594               1.0   \n",
       "1             9.0             255.0         0.604743               1.0   \n",
       "2             9.0             211.0         0.575130               1.0   \n",
       "3             9.0             531.0         0.503788               1.0   \n",
       "4            13.0            1072.0         0.415646               1.0   \n",
       "\n",
       "   n_non_stop_unique_tokens  num_hrefs  num_self_hrefs  num_imgs  ...  \\\n",
       "0                  0.815385        4.0             2.0       1.0  ...   \n",
       "1                  0.791946        3.0             1.0       1.0  ...   \n",
       "2                  0.663866        3.0             1.0       1.0  ...   \n",
       "3                  0.665635        9.0             0.0       1.0  ...   \n",
       "4                  0.540890       19.0            19.0      20.0  ...   \n",
       "\n",
       "   min_positive_polarity  max_positive_polarity  avg_negative_polarity  \\\n",
       "0               0.100000                    0.7              -0.350000   \n",
       "1               0.033333                    0.7              -0.118750   \n",
       "2               0.100000                    1.0              -0.466667   \n",
       "3               0.136364                    0.8              -0.369697   \n",
       "4               0.033333                    1.0              -0.220192   \n",
       "\n",
       "   min_negative_polarity  max_negative_polarity  title_subjectivity  \\\n",
       "0                 -0.600              -0.200000            0.500000   \n",
       "1                 -0.125              -0.100000            0.000000   \n",
       "2                 -0.800              -0.133333            0.000000   \n",
       "3                 -0.600              -0.166667            0.000000   \n",
       "4                 -0.500              -0.050000            0.454545   \n",
       "\n",
       "   title_sentiment_polarity  abs_title_subjectivity  \\\n",
       "0                 -0.187500                0.000000   \n",
       "1                  0.000000                0.500000   \n",
       "2                  0.000000                0.500000   \n",
       "3                  0.000000                0.500000   \n",
       "4                  0.136364                0.045455   \n",
       "\n",
       "   abs_title_sentiment_polarity  shares  \n",
       "0                      0.187500     593  \n",
       "1                      0.000000     711  \n",
       "2                      0.000000    1500  \n",
       "3                      0.000000    1200  \n",
       "4                      0.136364     505  \n",
       "\n",
       "[5 rows x 61 columns]"
      ]
     },
     "execution_count": 4,
     "metadata": {},
     "output_type": "execute_result"
    }
   ],
   "source": [
    "data.head()"
   ]
  },
  {
   "cell_type": "code",
   "execution_count": 5,
   "metadata": {},
   "outputs": [],
   "source": [
    "variables_list = ['shares','timedelta','n_tokens_title', 'n_tokens_content','kw_avg_avg','n_unique_tokens','num_hrefs','num_imgs', 'num_videos', 'num_keywords', \n",
    "           'self_reference_avg_sharess','data_channel_is_lifestyle', 'data_channel_is_entertainment', 'data_channel_is_bus', \n",
    "           'global_sentiment_polarity', 'global_rate_positive_words', 'global_rate_negative_words', \n",
    "           'data_channel_is_socmed', 'data_channel_is_tech','data_channel_is_world', 'is_weekend',\n",
    "           'rate_positive_words','rate_negative_words', 'avg_positive_polarity', 'avg_negative_polarity',\n",
    "           'title_subjectivity','title_sentiment_polarity','LDA_01', 'LDA_02', 'LDA_03', 'LDA_04']"
   ]
  },
  {
   "cell_type": "code",
   "execution_count": 6,
   "metadata": {},
   "outputs": [],
   "source": [
    "data = variables(data, variables_list)"
   ]
  },
  {
   "cell_type": "code",
   "execution_count": 7,
   "metadata": {},
   "outputs": [],
   "source": [
    "data['log_shares'] = np.log(data['shares'])"
   ]
  },
  {
   "cell_type": "code",
   "execution_count": 8,
   "metadata": {},
   "outputs": [],
   "source": [
    "X = data.drop(['shares','log_shares'], axis = 1)"
   ]
  },
  {
   "cell_type": "code",
   "execution_count": 9,
   "metadata": {},
   "outputs": [],
   "source": [
    "y = data['log_shares']"
   ]
  },
  {
   "cell_type": "code",
   "execution_count": 10,
   "metadata": {},
   "outputs": [
    {
     "data": {
      "text/plain": [
       "0.10657813845952602"
      ]
     },
     "execution_count": 10,
     "metadata": {},
     "output_type": "execute_result"
    }
   ],
   "source": [
    "linreg = LinearRegression()\n",
    "model = linreg.fit(X,y)\n",
    "model.score(X,y)"
   ]
  },
  {
   "cell_type": "code",
   "execution_count": 11,
   "metadata": {},
   "outputs": [],
   "source": [
    "import statsmodels.api as sm\n",
    "import scipy.stats as stats"
   ]
  },
  {
   "cell_type": "code",
   "execution_count": 12,
   "metadata": {},
   "outputs": [
    {
     "data": {
      "text/plain": [
       "0       -0.617658\n",
       "1       -0.443206\n",
       "2        0.316799\n",
       "3        0.302657\n",
       "4       -1.179344\n",
       "           ...   \n",
       "39639   -0.060984\n",
       "39640   -0.173727\n",
       "39641   -0.251950\n",
       "39642    0.107633\n",
       "39643    0.087670\n",
       "Name: log_shares, Length: 39644, dtype: float64"
      ]
     },
     "execution_count": 12,
     "metadata": {},
     "output_type": "execute_result"
    }
   ],
   "source": [
    "y_preds = model.predict(X)\n",
    "res = residuals(model, X, y)\n",
    "res"
   ]
  },
  {
   "cell_type": "code",
   "execution_count": 13,
   "metadata": {},
   "outputs": [
    {
     "data": {
      "image/png": "[encoded data removed]",
      "text/plain": [
       "<Figure size 432x288 with 1 Axes>"
      ]
     },
     "metadata": {
      "needs_background": "light"
     },
     "output_type": "display_data"
    }
   ],
   "source": [
    "qq_plot(model, X, y)"
   ]
  },
  {
   "cell_type": "code",
   "execution_count": 14,
   "metadata": {},
   "outputs": [],
   "source": [
    "from statsmodels.formula.api import ols"
   ]
  },
  {
   "cell_type": "code",
   "execution_count": 15,
   "metadata": {},
   "outputs": [
    {
     "data": {
      "text/plain": [
       "['global_sentiment_polarity',\n",
       " 'global_rate_positive_words',\n",
       " 'global_rate_negative_words',\n",
       " 'rate_positive_words',\n",
       " 'rate_negative_words',\n",
       " 'avg_positive_polarity']"
      ]
     },
     "execution_count": 15,
     "metadata": {},
     "output_type": "execute_result"
    }
   ],
   "source": [
    "cols = cols_to_drop(X)\n",
    "cols"
   ]
  },
  {
   "cell_type": "code",
   "execution_count": 16,
   "metadata": {},
   "outputs": [],
   "source": [
    "data_subset = drop_high_corrs(X)"
   ]
  },
  {
   "cell_type": "code",
   "execution_count": 17,
   "metadata": {},
   "outputs": [
    {
     "data": {
      "text/plain": [
       "timedelta                        1\n",
       "n_tokens_title                   1\n",
       "n_tokens_content                 2\n",
       "kw_avg_avg                       2\n",
       "n_unique_tokens                  1\n",
       "num_hrefs                        2\n",
       "num_imgs                         1\n",
       "num_videos                       1\n",
       "num_keywords                     1\n",
       "self_reference_avg_sharess       1\n",
       "data_channel_is_lifestyle        1\n",
       "data_channel_is_entertainment    2\n",
       "data_channel_is_bus              1\n",
       "global_rate_positive_words       1\n",
       "global_rate_negative_words       2\n",
       "data_channel_is_socmed           1\n",
       "data_channel_is_tech             2\n",
       "data_channel_is_world            2\n",
       "is_weekend                       1\n",
       "rate_negative_words              2\n",
       "avg_positive_polarity            1\n",
       "avg_negative_polarity            1\n",
       "title_subjectivity               1\n",
       "title_sentiment_polarity         1\n",
       "LDA_01                           2\n",
       "LDA_02                           2\n",
       "LDA_03                           2\n",
       "LDA_04                           2\n",
       "dtype: int64"
      ]
     },
     "execution_count": 17,
     "metadata": {},
     "output_type": "execute_result"
    }
   ],
   "source": [
    "np.sum(np.abs(data_subset.corr()) > 0.4)"
   ]
  },
  {
   "cell_type": "code",
   "execution_count": 18,
   "metadata": {},
   "outputs": [
    {
     "data": {
      "text/html": [
       "<table class=\"simpletable\">\n",
       "<caption>OLS Regression Results</caption>\n",
       "<tr>\n",
       "  <th>Dep. Variable:</th>       <td>log_shares</td>    <th>  R-squared:         </th> <td>   0.106</td> \n",
       "</tr>\n",
       "<tr>\n",
       "  <th>Model:</th>                   <td>OLS</td>       <th>  Adj. R-squared:    </th> <td>   0.106</td> \n",
       "</tr>\n",
       "<tr>\n",
       "  <th>Method:</th>             <td>Least Squares</td>  <th>  F-statistic:       </th> <td>   168.4</td> \n",
       "</tr>\n",
       "<tr>\n",
       "  <th>Date:</th>             <td>Tue, 26 Nov 2019</td> <th>  Prob (F-statistic):</th>  <td>  0.00</td>  \n",
       "</tr>\n",
       "<tr>\n",
       "  <th>Time:</th>                 <td>10:30:35</td>     <th>  Log-Likelihood:    </th> <td> -51166.</td> \n",
       "</tr>\n",
       "<tr>\n",
       "  <th>No. Observations:</th>      <td> 39644</td>      <th>  AIC:               </th> <td>1.024e+05</td>\n",
       "</tr>\n",
       "<tr>\n",
       "  <th>Df Residuals:</th>          <td> 39615</td>      <th>  BIC:               </th> <td>1.026e+05</td>\n",
       "</tr>\n",
       "<tr>\n",
       "  <th>Df Model:</th>              <td>    28</td>      <th>                     </th>     <td> </td>    \n",
       "</tr>\n",
       "<tr>\n",
       "  <th>Covariance Type:</th>      <td>nonrobust</td>    <th>                     </th>     <td> </td>    \n",
       "</tr>\n",
       "</table>\n",
       "<table class=\"simpletable\">\n",
       "<tr>\n",
       "                <td></td>                   <th>coef</th>     <th>std err</th>      <th>t</th>      <th>P>|t|</th>  <th>[0.025</th>    <th>0.975]</th>  \n",
       "</tr>\n",
       "<tr>\n",
       "  <th>Intercept</th>                     <td>    7.2879</td> <td>    0.053</td> <td>  137.778</td> <td> 0.000</td> <td>    7.184</td> <td>    7.392</td>\n",
       "</tr>\n",
       "<tr>\n",
       "  <th>timedelta</th>                     <td> 9.436e-05</td> <td> 2.26e-05</td> <td>    4.170</td> <td> 0.000</td> <td>    5e-05</td> <td>    0.000</td>\n",
       "</tr>\n",
       "<tr>\n",
       "  <th>n_tokens_title</th>                <td>    0.0051</td> <td>    0.002</td> <td>    2.335</td> <td> 0.020</td> <td>    0.001</td> <td>    0.009</td>\n",
       "</tr>\n",
       "<tr>\n",
       "  <th>n_tokens_content</th>              <td> 4.354e-05</td> <td> 1.17e-05</td> <td>    3.715</td> <td> 0.000</td> <td> 2.06e-05</td> <td> 6.65e-05</td>\n",
       "</tr>\n",
       "<tr>\n",
       "  <th>kw_avg_avg</th>                    <td>    0.0001</td> <td> 4.06e-06</td> <td>   26.618</td> <td> 0.000</td> <td>    0.000</td> <td>    0.000</td>\n",
       "</tr>\n",
       "<tr>\n",
       "  <th>n_unique_tokens</th>               <td>    0.0012</td> <td>    0.001</td> <td>    0.983</td> <td> 0.326</td> <td>   -0.001</td> <td>    0.004</td>\n",
       "</tr>\n",
       "<tr>\n",
       "  <th>num_hrefs</th>                     <td>    0.0038</td> <td>    0.000</td> <td>    8.101</td> <td> 0.000</td> <td>    0.003</td> <td>    0.005</td>\n",
       "</tr>\n",
       "<tr>\n",
       "  <th>num_imgs</th>                      <td>    0.0029</td> <td>    0.001</td> <td>    4.611</td> <td> 0.000</td> <td>    0.002</td> <td>    0.004</td>\n",
       "</tr>\n",
       "<tr>\n",
       "  <th>num_videos</th>                    <td>    0.0012</td> <td>    0.001</td> <td>    1.024</td> <td> 0.306</td> <td>   -0.001</td> <td>    0.004</td>\n",
       "</tr>\n",
       "<tr>\n",
       "  <th>num_keywords</th>                  <td>    0.0142</td> <td>    0.002</td> <td>    5.802</td> <td> 0.000</td> <td>    0.009</td> <td>    0.019</td>\n",
       "</tr>\n",
       "<tr>\n",
       "  <th>self_reference_avg_sharess</th>    <td> 1.793e-06</td> <td> 1.86e-07</td> <td>    9.643</td> <td> 0.000</td> <td> 1.43e-06</td> <td> 2.16e-06</td>\n",
       "</tr>\n",
       "<tr>\n",
       "  <th>data_channel_is_lifestyle</th>     <td>   -0.1243</td> <td>    0.030</td> <td>   -4.200</td> <td> 0.000</td> <td>   -0.182</td> <td>   -0.066</td>\n",
       "</tr>\n",
       "<tr>\n",
       "  <th>data_channel_is_entertainment</th> <td>   -0.2939</td> <td>    0.018</td> <td>  -16.078</td> <td> 0.000</td> <td>   -0.330</td> <td>   -0.258</td>\n",
       "</tr>\n",
       "<tr>\n",
       "  <th>data_channel_is_bus</th>           <td>   -0.2945</td> <td>    0.029</td> <td>  -10.264</td> <td> 0.000</td> <td>   -0.351</td> <td>   -0.238</td>\n",
       "</tr>\n",
       "<tr>\n",
       "  <th>global_rate_positive_words</th>    <td>   -1.8792</td> <td>    0.401</td> <td>   -4.682</td> <td> 0.000</td> <td>   -2.666</td> <td>   -1.092</td>\n",
       "</tr>\n",
       "<tr>\n",
       "  <th>global_rate_negative_words</th>    <td>    3.3112</td> <td>    0.887</td> <td>    3.734</td> <td> 0.000</td> <td>    1.573</td> <td>    5.049</td>\n",
       "</tr>\n",
       "<tr>\n",
       "  <th>data_channel_is_socmed</th>        <td>    0.0951</td> <td>    0.028</td> <td>    3.432</td> <td> 0.001</td> <td>    0.041</td> <td>    0.149</td>\n",
       "</tr>\n",
       "<tr>\n",
       "  <th>data_channel_is_tech</th>          <td>    0.0020</td> <td>    0.028</td> <td>    0.071</td> <td> 0.943</td> <td>   -0.053</td> <td>    0.057</td>\n",
       "</tr>\n",
       "<tr>\n",
       "  <th>data_channel_is_world</th>         <td>   -0.1541</td> <td>    0.028</td> <td>   -5.513</td> <td> 0.000</td> <td>   -0.209</td> <td>   -0.099</td>\n",
       "</tr>\n",
       "<tr>\n",
       "  <th>is_weekend</th>                    <td>    0.2639</td> <td>    0.013</td> <td>   19.972</td> <td> 0.000</td> <td>    0.238</td> <td>    0.290</td>\n",
       "</tr>\n",
       "<tr>\n",
       "  <th>rate_negative_words</th>           <td>   -0.3421</td> <td>    0.068</td> <td>   -5.038</td> <td> 0.000</td> <td>   -0.475</td> <td>   -0.209</td>\n",
       "</tr>\n",
       "<tr>\n",
       "  <th>avg_positive_polarity</th>         <td>   -0.0621</td> <td>    0.049</td> <td>   -1.259</td> <td> 0.208</td> <td>   -0.159</td> <td>    0.035</td>\n",
       "</tr>\n",
       "<tr>\n",
       "  <th>avg_negative_polarity</th>         <td>   -0.2071</td> <td>    0.040</td> <td>   -5.192</td> <td> 0.000</td> <td>   -0.285</td> <td>   -0.129</td>\n",
       "</tr>\n",
       "<tr>\n",
       "  <th>title_subjectivity</th>            <td>    0.0512</td> <td>    0.014</td> <td>    3.558</td> <td> 0.000</td> <td>    0.023</td> <td>    0.079</td>\n",
       "</tr>\n",
       "<tr>\n",
       "  <th>title_sentiment_polarity</th>      <td>    0.0753</td> <td>    0.018</td> <td>    4.268</td> <td> 0.000</td> <td>    0.041</td> <td>    0.110</td>\n",
       "</tr>\n",
       "<tr>\n",
       "  <th>LDA_01</th>                        <td>   -0.3269</td> <td>    0.040</td> <td>   -8.115</td> <td> 0.000</td> <td>   -0.406</td> <td>   -0.248</td>\n",
       "</tr>\n",
       "<tr>\n",
       "  <th>LDA_02</th>                        <td>   -0.5425</td> <td>    0.038</td> <td>  -14.236</td> <td> 0.000</td> <td>   -0.617</td> <td>   -0.468</td>\n",
       "</tr>\n",
       "<tr>\n",
       "  <th>LDA_03</th>                        <td>   -0.2346</td> <td>    0.038</td> <td>   -6.165</td> <td> 0.000</td> <td>   -0.309</td> <td>   -0.160</td>\n",
       "</tr>\n",
       "<tr>\n",
       "  <th>LDA_04</th>                        <td>   -0.2267</td> <td>    0.035</td> <td>   -6.513</td> <td> 0.000</td> <td>   -0.295</td> <td>   -0.158</td>\n",
       "</tr>\n",
       "</table>\n",
       "<table class=\"simpletable\">\n",
       "<tr>\n",
       "  <th>Omnibus:</th>       <td>7169.568</td> <th>  Durbin-Watson:     </th> <td>   1.943</td> \n",
       "</tr>\n",
       "<tr>\n",
       "  <th>Prob(Omnibus):</th>  <td> 0.000</td>  <th>  Jarque-Bera (JB):  </th> <td>19483.325</td>\n",
       "</tr>\n",
       "<tr>\n",
       "  <th>Skew:</th>           <td> 0.978</td>  <th>  Prob(JB):          </th> <td>    0.00</td> \n",
       "</tr>\n",
       "<tr>\n",
       "  <th>Kurtosis:</th>       <td> 5.823</td>  <th>  Cond. No.          </th> <td>5.25e+06</td> \n",
       "</tr>\n",
       "</table><br/><br/>Warnings:<br/>[1] Standard Errors assume that the covariance matrix of the errors is correctly specified.<br/>[2] The condition number is large, 5.25e+06. This might indicate that there are<br/>strong multicollinearity or other numerical problems."
      ],
      "text/plain": [
       "<class 'statsmodels.iolib.summary.Summary'>\n",
       "\"\"\"\n",
       "                            OLS Regression Results                            \n",
       "==============================================================================\n",
       "Dep. Variable:             log_shares   R-squared:                       0.106\n",
       "Model:                            OLS   Adj. R-squared:                  0.106\n",
       "Method:                 Least Squares   F-statistic:                     168.4\n",
       "Date:                Tue, 26 Nov 2019   Prob (F-statistic):               0.00\n",
       "Time:                        10:30:35   Log-Likelihood:                -51166.\n",
       "No. Observations:               39644   AIC:                         1.024e+05\n",
       "Df Residuals:                   39615   BIC:                         1.026e+05\n",
       "Df Model:                          28                                         \n",
       "Covariance Type:            nonrobust                                         \n",
       "=================================================================================================\n",
       "                                    coef    std err          t      P>|t|      [0.025      0.975]\n",
       "-------------------------------------------------------------------------------------------------\n",
       "Intercept                         7.2879      0.053    137.778      0.000       7.184       7.392\n",
       "timedelta                      9.436e-05   2.26e-05      4.170      0.000       5e-05       0.000\n",
       "n_tokens_title                    0.0051      0.002      2.335      0.020       0.001       0.009\n",
       "n_tokens_content               4.354e-05   1.17e-05      3.715      0.000    2.06e-05    6.65e-05\n",
       "kw_avg_avg                        0.0001   4.06e-06     26.618      0.000       0.000       0.000\n",
       "n_unique_tokens                   0.0012      0.001      0.983      0.326      -0.001       0.004\n",
       "num_hrefs                         0.0038      0.000      8.101      0.000       0.003       0.005\n",
       "num_imgs                          0.0029      0.001      4.611      0.000       0.002       0.004\n",
       "num_videos                        0.0012      0.001      1.024      0.306      -0.001       0.004\n",
       "num_keywords                      0.0142      0.002      5.802      0.000       0.009       0.019\n",
       "self_reference_avg_sharess     1.793e-06   1.86e-07      9.643      0.000    1.43e-06    2.16e-06\n",
       "data_channel_is_lifestyle        -0.1243      0.030     -4.200      0.000      -0.182      -0.066\n",
       "data_channel_is_entertainment    -0.2939      0.018    -16.078      0.000      -0.330      -0.258\n",
       "data_channel_is_bus              -0.2945      0.029    -10.264      0.000      -0.351      -0.238\n",
       "global_rate_positive_words       -1.8792      0.401     -4.682      0.000      -2.666      -1.092\n",
       "global_rate_negative_words        3.3112      0.887      3.734      0.000       1.573       5.049\n",
       "data_channel_is_socmed            0.0951      0.028      3.432      0.001       0.041       0.149\n",
       "data_channel_is_tech              0.0020      0.028      0.071      0.943      -0.053       0.057\n",
       "data_channel_is_world            -0.1541      0.028     -5.513      0.000      -0.209      -0.099\n",
       "is_weekend                        0.2639      0.013     19.972      0.000       0.238       0.290\n",
       "rate_negative_words              -0.3421      0.068     -5.038      0.000      -0.475      -0.209\n",
       "avg_positive_polarity            -0.0621      0.049     -1.259      0.208      -0.159       0.035\n",
       "avg_negative_polarity            -0.2071      0.040     -5.192      0.000      -0.285      -0.129\n",
       "title_subjectivity                0.0512      0.014      3.558      0.000       0.023       0.079\n",
       "title_sentiment_polarity          0.0753      0.018      4.268      0.000       0.041       0.110\n",
       "LDA_01                           -0.3269      0.040     -8.115      0.000      -0.406      -0.248\n",
       "LDA_02                           -0.5425      0.038    -14.236      0.000      -0.617      -0.468\n",
       "LDA_03                           -0.2346      0.038     -6.165      0.000      -0.309      -0.160\n",
       "LDA_04                           -0.2267      0.035     -6.513      0.000      -0.295      -0.158\n",
       "==============================================================================\n",
       "Omnibus:                     7169.568   Durbin-Watson:                   1.943\n",
       "Prob(Omnibus):                  0.000   Jarque-Bera (JB):            19483.325\n",
       "Skew:                           0.978   Prob(JB):                         0.00\n",
       "Kurtosis:                       5.823   Cond. No.                     5.25e+06\n",
       "==============================================================================\n",
       "\n",
       "Warnings:\n",
       "[1] Standard Errors assume that the covariance matrix of the errors is correctly specified.\n",
       "[2] The condition number is large, 5.25e+06. This might indicate that there are\n",
       "strong multicollinearity or other numerical problems.\n",
       "\"\"\""
      ]
     },
     "execution_count": 18,
     "metadata": {},
     "output_type": "execute_result"
    }
   ],
   "source": [
    "model = ols_model(data_subset, y)\n",
    "model.summary()"
   ]
  },
  {
   "cell_type": "code",
   "execution_count": 19,
   "metadata": {},
   "outputs": [],
   "source": [
    "high_p_vals = ['n_unique_tokens', 'num_videos', 'data_channel_is_tech', 'avg_positive_polarity']\n",
    "data_subset.drop(high_p_vals, axis = 1, inplace = True)"
   ]
  },
  {
   "cell_type": "code",
   "execution_count": 20,
   "metadata": {},
   "outputs": [
    {
     "data": {
      "text/html": [
       "<table class=\"simpletable\">\n",
       "<caption>OLS Regression Results</caption>\n",
       "<tr>\n",
       "  <th>Dep. Variable:</th>       <td>log_shares</td>    <th>  R-squared:         </th> <td>   0.106</td> \n",
       "</tr>\n",
       "<tr>\n",
       "  <th>Model:</th>                   <td>OLS</td>       <th>  Adj. R-squared:    </th> <td>   0.106</td> \n",
       "</tr>\n",
       "<tr>\n",
       "  <th>Method:</th>             <td>Least Squares</td>  <th>  F-statistic:       </th> <td>   196.4</td> \n",
       "</tr>\n",
       "<tr>\n",
       "  <th>Date:</th>             <td>Tue, 26 Nov 2019</td> <th>  Prob (F-statistic):</th>  <td>  0.00</td>  \n",
       "</tr>\n",
       "<tr>\n",
       "  <th>Time:</th>                 <td>10:30:39</td>     <th>  Log-Likelihood:    </th> <td> -51168.</td> \n",
       "</tr>\n",
       "<tr>\n",
       "  <th>No. Observations:</th>      <td> 39644</td>      <th>  AIC:               </th> <td>1.024e+05</td>\n",
       "</tr>\n",
       "<tr>\n",
       "  <th>Df Residuals:</th>          <td> 39619</td>      <th>  BIC:               </th> <td>1.026e+05</td>\n",
       "</tr>\n",
       "<tr>\n",
       "  <th>Df Model:</th>              <td>    24</td>      <th>                     </th>     <td> </td>    \n",
       "</tr>\n",
       "<tr>\n",
       "  <th>Covariance Type:</th>      <td>nonrobust</td>    <th>                     </th>     <td> </td>    \n",
       "</tr>\n",
       "</table>\n",
       "<table class=\"simpletable\">\n",
       "<tr>\n",
       "                <td></td>                   <th>coef</th>     <th>std err</th>      <th>t</th>      <th>P>|t|</th>  <th>[0.025</th>    <th>0.975]</th>  \n",
       "</tr>\n",
       "<tr>\n",
       "  <th>Intercept</th>                     <td>    7.2814</td> <td>    0.049</td> <td>  149.452</td> <td> 0.000</td> <td>    7.186</td> <td>    7.377</td>\n",
       "</tr>\n",
       "<tr>\n",
       "  <th>timedelta</th>                     <td> 9.325e-05</td> <td> 2.26e-05</td> <td>    4.130</td> <td> 0.000</td> <td>  4.9e-05</td> <td>    0.000</td>\n",
       "</tr>\n",
       "<tr>\n",
       "  <th>n_tokens_title</th>                <td>    0.0052</td> <td>    0.002</td> <td>    2.385</td> <td> 0.017</td> <td>    0.001</td> <td>    0.010</td>\n",
       "</tr>\n",
       "<tr>\n",
       "  <th>n_tokens_content</th>              <td> 4.514e-05</td> <td> 1.16e-05</td> <td>    3.906</td> <td> 0.000</td> <td> 2.25e-05</td> <td> 6.78e-05</td>\n",
       "</tr>\n",
       "<tr>\n",
       "  <th>kw_avg_avg</th>                    <td>    0.0001</td> <td> 4.04e-06</td> <td>   26.800</td> <td> 0.000</td> <td>    0.000</td> <td>    0.000</td>\n",
       "</tr>\n",
       "<tr>\n",
       "  <th>num_hrefs</th>                     <td>    0.0037</td> <td>    0.000</td> <td>    8.134</td> <td> 0.000</td> <td>    0.003</td> <td>    0.005</td>\n",
       "</tr>\n",
       "<tr>\n",
       "  <th>num_imgs</th>                      <td>    0.0028</td> <td>    0.001</td> <td>    4.487</td> <td> 0.000</td> <td>    0.002</td> <td>    0.004</td>\n",
       "</tr>\n",
       "<tr>\n",
       "  <th>num_keywords</th>                  <td>    0.0141</td> <td>    0.002</td> <td>    5.763</td> <td> 0.000</td> <td>    0.009</td> <td>    0.019</td>\n",
       "</tr>\n",
       "<tr>\n",
       "  <th>self_reference_avg_sharess</th>    <td> 1.793e-06</td> <td> 1.86e-07</td> <td>    9.650</td> <td> 0.000</td> <td> 1.43e-06</td> <td> 2.16e-06</td>\n",
       "</tr>\n",
       "<tr>\n",
       "  <th>data_channel_is_lifestyle</th>     <td>   -0.1273</td> <td>    0.021</td> <td>   -5.966</td> <td> 0.000</td> <td>   -0.169</td> <td>   -0.085</td>\n",
       "</tr>\n",
       "<tr>\n",
       "  <th>data_channel_is_entertainment</th> <td>   -0.2931</td> <td>    0.017</td> <td>  -17.445</td> <td> 0.000</td> <td>   -0.326</td> <td>   -0.260</td>\n",
       "</tr>\n",
       "<tr>\n",
       "  <th>data_channel_is_bus</th>           <td>   -0.2965</td> <td>    0.023</td> <td>  -12.956</td> <td> 0.000</td> <td>   -0.341</td> <td>   -0.252</td>\n",
       "</tr>\n",
       "<tr>\n",
       "  <th>global_rate_positive_words</th>    <td>   -2.0716</td> <td>    0.374</td> <td>   -5.542</td> <td> 0.000</td> <td>   -2.804</td> <td>   -1.339</td>\n",
       "</tr>\n",
       "<tr>\n",
       "  <th>global_rate_negative_words</th>    <td>    3.6193</td> <td>    0.863</td> <td>    4.192</td> <td> 0.000</td> <td>    1.927</td> <td>    5.312</td>\n",
       "</tr>\n",
       "<tr>\n",
       "  <th>data_channel_is_socmed</th>        <td>    0.0942</td> <td>    0.023</td> <td>    4.103</td> <td> 0.000</td> <td>    0.049</td> <td>    0.139</td>\n",
       "</tr>\n",
       "<tr>\n",
       "  <th>data_channel_is_world</th>         <td>   -0.1548</td> <td>    0.022</td> <td>   -7.139</td> <td> 0.000</td> <td>   -0.197</td> <td>   -0.112</td>\n",
       "</tr>\n",
       "<tr>\n",
       "  <th>is_weekend</th>                    <td>    0.2635</td> <td>    0.013</td> <td>   19.951</td> <td> 0.000</td> <td>    0.238</td> <td>    0.289</td>\n",
       "</tr>\n",
       "<tr>\n",
       "  <th>rate_negative_words</th>           <td>   -0.3697</td> <td>    0.065</td> <td>   -5.670</td> <td> 0.000</td> <td>   -0.498</td> <td>   -0.242</td>\n",
       "</tr>\n",
       "<tr>\n",
       "  <th>avg_negative_polarity</th>         <td>   -0.2023</td> <td>    0.040</td> <td>   -5.110</td> <td> 0.000</td> <td>   -0.280</td> <td>   -0.125</td>\n",
       "</tr>\n",
       "<tr>\n",
       "  <th>title_subjectivity</th>            <td>    0.0514</td> <td>    0.014</td> <td>    3.573</td> <td> 0.000</td> <td>    0.023</td> <td>    0.080</td>\n",
       "</tr>\n",
       "<tr>\n",
       "  <th>title_sentiment_polarity</th>      <td>    0.0743</td> <td>    0.018</td> <td>    4.223</td> <td> 0.000</td> <td>    0.040</td> <td>    0.109</td>\n",
       "</tr>\n",
       "<tr>\n",
       "  <th>LDA_01</th>                        <td>   -0.3300</td> <td>    0.038</td> <td>   -8.645</td> <td> 0.000</td> <td>   -0.405</td> <td>   -0.255</td>\n",
       "</tr>\n",
       "<tr>\n",
       "  <th>LDA_02</th>                        <td>   -0.5430</td> <td>    0.038</td> <td>  -14.253</td> <td> 0.000</td> <td>   -0.618</td> <td>   -0.468</td>\n",
       "</tr>\n",
       "<tr>\n",
       "  <th>LDA_03</th>                        <td>   -0.2340</td> <td>    0.034</td> <td>   -6.866</td> <td> 0.000</td> <td>   -0.301</td> <td>   -0.167</td>\n",
       "</tr>\n",
       "<tr>\n",
       "  <th>LDA_04</th>                        <td>   -0.2273</td> <td>    0.033</td> <td>   -6.915</td> <td> 0.000</td> <td>   -0.292</td> <td>   -0.163</td>\n",
       "</tr>\n",
       "</table>\n",
       "<table class=\"simpletable\">\n",
       "<tr>\n",
       "  <th>Omnibus:</th>       <td>7168.453</td> <th>  Durbin-Watson:     </th> <td>   1.943</td> \n",
       "</tr>\n",
       "<tr>\n",
       "  <th>Prob(Omnibus):</th>  <td> 0.000</td>  <th>  Jarque-Bera (JB):  </th> <td>19466.596</td>\n",
       "</tr>\n",
       "<tr>\n",
       "  <th>Skew:</th>           <td> 0.978</td>  <th>  Prob(JB):          </th> <td>    0.00</td> \n",
       "</tr>\n",
       "<tr>\n",
       "  <th>Kurtosis:</th>       <td> 5.821</td>  <th>  Cond. No.          </th> <td>5.09e+06</td> \n",
       "</tr>\n",
       "</table><br/><br/>Warnings:<br/>[1] Standard Errors assume that the covariance matrix of the errors is correctly specified.<br/>[2] The condition number is large, 5.09e+06. This might indicate that there are<br/>strong multicollinearity or other numerical problems."
      ],
      "text/plain": [
       "<class 'statsmodels.iolib.summary.Summary'>\n",
       "\"\"\"\n",
       "                            OLS Regression Results                            \n",
       "==============================================================================\n",
       "Dep. Variable:             log_shares   R-squared:                       0.106\n",
       "Model:                            OLS   Adj. R-squared:                  0.106\n",
       "Method:                 Least Squares   F-statistic:                     196.4\n",
       "Date:                Tue, 26 Nov 2019   Prob (F-statistic):               0.00\n",
       "Time:                        10:30:39   Log-Likelihood:                -51168.\n",
       "No. Observations:               39644   AIC:                         1.024e+05\n",
       "Df Residuals:                   39619   BIC:                         1.026e+05\n",
       "Df Model:                          24                                         \n",
       "Covariance Type:            nonrobust                                         \n",
       "=================================================================================================\n",
       "                                    coef    std err          t      P>|t|      [0.025      0.975]\n",
       "-------------------------------------------------------------------------------------------------\n",
       "Intercept                         7.2814      0.049    149.452      0.000       7.186       7.377\n",
       "timedelta                      9.325e-05   2.26e-05      4.130      0.000     4.9e-05       0.000\n",
       "n_tokens_title                    0.0052      0.002      2.385      0.017       0.001       0.010\n",
       "n_tokens_content               4.514e-05   1.16e-05      3.906      0.000    2.25e-05    6.78e-05\n",
       "kw_avg_avg                        0.0001   4.04e-06     26.800      0.000       0.000       0.000\n",
       "num_hrefs                         0.0037      0.000      8.134      0.000       0.003       0.005\n",
       "num_imgs                          0.0028      0.001      4.487      0.000       0.002       0.004\n",
       "num_keywords                      0.0141      0.002      5.763      0.000       0.009       0.019\n",
       "self_reference_avg_sharess     1.793e-06   1.86e-07      9.650      0.000    1.43e-06    2.16e-06\n",
       "data_channel_is_lifestyle        -0.1273      0.021     -5.966      0.000      -0.169      -0.085\n",
       "data_channel_is_entertainment    -0.2931      0.017    -17.445      0.000      -0.326      -0.260\n",
       "data_channel_is_bus              -0.2965      0.023    -12.956      0.000      -0.341      -0.252\n",
       "global_rate_positive_words       -2.0716      0.374     -5.542      0.000      -2.804      -1.339\n",
       "global_rate_negative_words        3.6193      0.863      4.192      0.000       1.927       5.312\n",
       "data_channel_is_socmed            0.0942      0.023      4.103      0.000       0.049       0.139\n",
       "data_channel_is_world            -0.1548      0.022     -7.139      0.000      -0.197      -0.112\n",
       "is_weekend                        0.2635      0.013     19.951      0.000       0.238       0.289\n",
       "rate_negative_words              -0.3697      0.065     -5.670      0.000      -0.498      -0.242\n",
       "avg_negative_polarity            -0.2023      0.040     -5.110      0.000      -0.280      -0.125\n",
       "title_subjectivity                0.0514      0.014      3.573      0.000       0.023       0.080\n",
       "title_sentiment_polarity          0.0743      0.018      4.223      0.000       0.040       0.109\n",
       "LDA_01                           -0.3300      0.038     -8.645      0.000      -0.405      -0.255\n",
       "LDA_02                           -0.5430      0.038    -14.253      0.000      -0.618      -0.468\n",
       "LDA_03                           -0.2340      0.034     -6.866      0.000      -0.301      -0.167\n",
       "LDA_04                           -0.2273      0.033     -6.915      0.000      -0.292      -0.163\n",
       "==============================================================================\n",
       "Omnibus:                     7168.453   Durbin-Watson:                   1.943\n",
       "Prob(Omnibus):                  0.000   Jarque-Bera (JB):            19466.596\n",
       "Skew:                           0.978   Prob(JB):                         0.00\n",
       "Kurtosis:                       5.821   Cond. No.                     5.09e+06\n",
       "==============================================================================\n",
       "\n",
       "Warnings:\n",
       "[1] Standard Errors assume that the covariance matrix of the errors is correctly specified.\n",
       "[2] The condition number is large, 5.09e+06. This might indicate that there are\n",
       "strong multicollinearity or other numerical problems.\n",
       "\"\"\""
      ]
     },
     "execution_count": 20,
     "metadata": {},
     "output_type": "execute_result"
    }
   ],
   "source": [
    "model = ols_model(data_subset, y)\n",
    "model.summary()"
   ]
  },
  {
   "cell_type": "code",
   "execution_count": 21,
   "metadata": {},
   "outputs": [
    {
     "data": {
      "image/png": "[encoded data removed]",
      "text/plain": [
       "<Figure size 432x288 with 1 Axes>"
      ]
     },
     "metadata": {
      "needs_background": "light"
     },
     "output_type": "display_data"
    }
   ],
   "source": [
    "qq_plot(model, data_subset, y)"
   ]
  },
  {
   "cell_type": "code",
   "execution_count": 22,
   "metadata": {},
   "outputs": [
    {
     "data": {
      "image/png": "[encoded data removed]",
      "text/plain": [
       "<Figure size 1080x576 with 1 Axes>"
      ]
     },
     "metadata": {
      "needs_background": "light"
     },
     "output_type": "display_data"
    }
   ],
   "source": [
    "var_check(model, data_subset, y)"
   ]
  },
  {
   "cell_type": "code",
   "execution_count": 25,
   "metadata": {},
   "outputs": [
    {
     "name": "stdout",
     "output_type": "stream",
     "text": [
      "0.8 percentile: 3400.0\n",
      "0.81 percentile: 3600.0\n",
      "0.82 percentile: 3700.0\n",
      "0.83 percentile: 3900.0\n",
      "0.84 percentile: 4100.0\n",
      "0.85 percentile: 4400.0\n",
      "0.86 percentile: 4700.0\n",
      "0.87 percentile: 5000.0\n",
      "0.88 percentile: 5300.0\n",
      "0.89 percentile: 5700.0\n",
      "0.9 percentile: 6200.0\n",
      "0.91 percentile: 6700.0\n",
      "0.92 percentile: 7500.0\n",
      "0.93 percentile: 8300.0\n",
      "0.94 percentile: 9400.0\n",
      "0.95 percentile: 10800.0\n",
      "0.96 percentile: 12700.0\n",
      "0.97 percentile: 15700.0\n",
      "0.98 percentile: 20500.0\n",
      "0.01 percentile: 381.0\n",
      "0.02 percentile: 463.0\n",
      "0.03 percentile: 513.29\n",
      "0.04 percentile: 551.0\n",
      "0.05 percentile: 584.0\n",
      "0.06 percentile: 613.0\n",
      "0.07 percentile: 641.0100000000002\n",
      "0.08 percentile: 666.0\n",
      "0.09 percentile: 689.0\n",
      "0.1 percentile: 708.0\n",
      "0.11 percentile: 725.0\n",
      "0.12 percentile: 743.0\n",
      "0.13 percentile: 759.0\n",
      "0.14 percentile: 777.0\n",
      "0.15 percentile: 792.0\n",
      "0.16 percentile: 809.0\n",
      "0.17 percentile: 824.0\n",
      "0.18 percentile: 840.0\n",
      "0.19 percentile: 855.0\n"
     ]
    }
   ],
   "source": [
    "for i in range(80, 99):\n",
    "    q = i / 100\n",
    "    print('{} percentile: {}'.format(q, data['shares'].quantile(q=q)))\n",
    "\n",
    "for i in range(1,20):\n",
    "    q = i/100\n",
    "    print('{} percentile: {}'.format(q, data['shares'].quantile(q=q)))"
   ]
  },
  {
   "cell_type": "code",
   "execution_count": 26,
   "metadata": {},
   "outputs": [],
   "source": [
    "lower_cutoff = 600\n",
    "upper_cutoff = 5500\n",
    "new_data = pd.concat([data_subset, data['shares'],data['log_shares']], axis=1)\n",
    "new_data = new_data[(new_data['shares'] > lower_cutoff) & (new_data['shares'] < upper_cutoff)]\n",
    "data_subset = new_data.drop(['shares', 'log_shares'], axis = 1)\n",
    "y = new_data['log_shares']"
   ]
  },
  {
   "cell_type": "code",
   "execution_count": 27,
   "metadata": {},
   "outputs": [
    {
     "data": {
      "text/html": [
       "<div>\n",
       "<style scoped>\n",
       "    .dataframe tbody tr th:only-of-type {\n",
       "        vertical-align: middle;\n",
       "    }\n",
       "\n",
       "    .dataframe tbody tr th {\n",
       "        vertical-align: top;\n",
       "    }\n",
       "\n",
       "    .dataframe thead th {\n",
       "        text-align: right;\n",
       "    }\n",
       "</style>\n",
       "<table border=\"1\" class=\"dataframe\">\n",
       "  <thead>\n",
       "    <tr style=\"text-align: right;\">\n",
       "      <th></th>\n",
       "      <th>timedelta</th>\n",
       "      <th>n_tokens_title</th>\n",
       "      <th>n_tokens_content</th>\n",
       "      <th>kw_avg_avg</th>\n",
       "      <th>num_hrefs</th>\n",
       "      <th>num_imgs</th>\n",
       "      <th>num_keywords</th>\n",
       "      <th>self_reference_avg_sharess</th>\n",
       "      <th>data_channel_is_lifestyle</th>\n",
       "      <th>data_channel_is_entertainment</th>\n",
       "      <th>...</th>\n",
       "      <th>data_channel_is_world</th>\n",
       "      <th>is_weekend</th>\n",
       "      <th>rate_negative_words</th>\n",
       "      <th>avg_negative_polarity</th>\n",
       "      <th>title_subjectivity</th>\n",
       "      <th>title_sentiment_polarity</th>\n",
       "      <th>LDA_01</th>\n",
       "      <th>LDA_02</th>\n",
       "      <th>LDA_03</th>\n",
       "      <th>LDA_04</th>\n",
       "    </tr>\n",
       "  </thead>\n",
       "  <tbody>\n",
       "    <tr>\n",
       "      <td>1</td>\n",
       "      <td>731.0</td>\n",
       "      <td>9.0</td>\n",
       "      <td>255.0</td>\n",
       "      <td>0.000000</td>\n",
       "      <td>3.0</td>\n",
       "      <td>1.0</td>\n",
       "      <td>4.0</td>\n",
       "      <td>0.000000</td>\n",
       "      <td>0.0</td>\n",
       "      <td>0.0</td>\n",
       "      <td>...</td>\n",
       "      <td>0.0</td>\n",
       "      <td>0.0</td>\n",
       "      <td>0.266667</td>\n",
       "      <td>-0.118750</td>\n",
       "      <td>0.000000</td>\n",
       "      <td>0.000000</td>\n",
       "      <td>0.050047</td>\n",
       "      <td>0.050096</td>\n",
       "      <td>0.050101</td>\n",
       "      <td>0.050001</td>\n",
       "    </tr>\n",
       "    <tr>\n",
       "      <td>2</td>\n",
       "      <td>731.0</td>\n",
       "      <td>9.0</td>\n",
       "      <td>211.0</td>\n",
       "      <td>0.000000</td>\n",
       "      <td>3.0</td>\n",
       "      <td>1.0</td>\n",
       "      <td>6.0</td>\n",
       "      <td>918.000000</td>\n",
       "      <td>0.0</td>\n",
       "      <td>0.0</td>\n",
       "      <td>...</td>\n",
       "      <td>0.0</td>\n",
       "      <td>0.0</td>\n",
       "      <td>0.142857</td>\n",
       "      <td>-0.466667</td>\n",
       "      <td>0.000000</td>\n",
       "      <td>0.000000</td>\n",
       "      <td>0.033334</td>\n",
       "      <td>0.033351</td>\n",
       "      <td>0.033334</td>\n",
       "      <td>0.682188</td>\n",
       "    </tr>\n",
       "    <tr>\n",
       "      <td>3</td>\n",
       "      <td>731.0</td>\n",
       "      <td>9.0</td>\n",
       "      <td>531.0</td>\n",
       "      <td>0.000000</td>\n",
       "      <td>9.0</td>\n",
       "      <td>1.0</td>\n",
       "      <td>7.0</td>\n",
       "      <td>0.000000</td>\n",
       "      <td>0.0</td>\n",
       "      <td>1.0</td>\n",
       "      <td>...</td>\n",
       "      <td>0.0</td>\n",
       "      <td>0.0</td>\n",
       "      <td>0.333333</td>\n",
       "      <td>-0.369697</td>\n",
       "      <td>0.000000</td>\n",
       "      <td>0.000000</td>\n",
       "      <td>0.419300</td>\n",
       "      <td>0.494651</td>\n",
       "      <td>0.028905</td>\n",
       "      <td>0.028572</td>\n",
       "    </tr>\n",
       "    <tr>\n",
       "      <td>5</td>\n",
       "      <td>731.0</td>\n",
       "      <td>10.0</td>\n",
       "      <td>370.0</td>\n",
       "      <td>0.000000</td>\n",
       "      <td>2.0</td>\n",
       "      <td>0.0</td>\n",
       "      <td>9.0</td>\n",
       "      <td>8500.000000</td>\n",
       "      <td>0.0</td>\n",
       "      <td>0.0</td>\n",
       "      <td>...</td>\n",
       "      <td>0.0</td>\n",
       "      <td>0.0</td>\n",
       "      <td>0.476190</td>\n",
       "      <td>-0.195000</td>\n",
       "      <td>0.642857</td>\n",
       "      <td>0.214286</td>\n",
       "      <td>0.306718</td>\n",
       "      <td>0.022231</td>\n",
       "      <td>0.022224</td>\n",
       "      <td>0.626582</td>\n",
       "    </tr>\n",
       "    <tr>\n",
       "      <td>7</td>\n",
       "      <td>731.0</td>\n",
       "      <td>12.0</td>\n",
       "      <td>989.0</td>\n",
       "      <td>0.000000</td>\n",
       "      <td>20.0</td>\n",
       "      <td>20.0</td>\n",
       "      <td>9.0</td>\n",
       "      <td>3151.157895</td>\n",
       "      <td>0.0</td>\n",
       "      <td>0.0</td>\n",
       "      <td>...</td>\n",
       "      <td>0.0</td>\n",
       "      <td>0.0</td>\n",
       "      <td>0.153061</td>\n",
       "      <td>-0.242778</td>\n",
       "      <td>1.000000</td>\n",
       "      <td>0.500000</td>\n",
       "      <td>0.150733</td>\n",
       "      <td>0.243435</td>\n",
       "      <td>0.022224</td>\n",
       "      <td>0.561384</td>\n",
       "    </tr>\n",
       "    <tr>\n",
       "      <td>...</td>\n",
       "      <td>...</td>\n",
       "      <td>...</td>\n",
       "      <td>...</td>\n",
       "      <td>...</td>\n",
       "      <td>...</td>\n",
       "      <td>...</td>\n",
       "      <td>...</td>\n",
       "      <td>...</td>\n",
       "      <td>...</td>\n",
       "      <td>...</td>\n",
       "      <td>...</td>\n",
       "      <td>...</td>\n",
       "      <td>...</td>\n",
       "      <td>...</td>\n",
       "      <td>...</td>\n",
       "      <td>...</td>\n",
       "      <td>...</td>\n",
       "      <td>...</td>\n",
       "      <td>...</td>\n",
       "      <td>...</td>\n",
       "      <td>...</td>\n",
       "    </tr>\n",
       "    <tr>\n",
       "      <td>39639</td>\n",
       "      <td>8.0</td>\n",
       "      <td>11.0</td>\n",
       "      <td>346.0</td>\n",
       "      <td>3031.115764</td>\n",
       "      <td>9.0</td>\n",
       "      <td>1.0</td>\n",
       "      <td>8.0</td>\n",
       "      <td>37033.333333</td>\n",
       "      <td>0.0</td>\n",
       "      <td>0.0</td>\n",
       "      <td>...</td>\n",
       "      <td>0.0</td>\n",
       "      <td>0.0</td>\n",
       "      <td>0.277778</td>\n",
       "      <td>-0.260000</td>\n",
       "      <td>0.100000</td>\n",
       "      <td>0.000000</td>\n",
       "      <td>0.025001</td>\n",
       "      <td>0.151701</td>\n",
       "      <td>0.025000</td>\n",
       "      <td>0.773260</td>\n",
       "    </tr>\n",
       "    <tr>\n",
       "      <td>39640</td>\n",
       "      <td>8.0</td>\n",
       "      <td>12.0</td>\n",
       "      <td>328.0</td>\n",
       "      <td>3411.660830</td>\n",
       "      <td>9.0</td>\n",
       "      <td>3.0</td>\n",
       "      <td>7.0</td>\n",
       "      <td>2100.000000</td>\n",
       "      <td>0.0</td>\n",
       "      <td>0.0</td>\n",
       "      <td>...</td>\n",
       "      <td>0.0</td>\n",
       "      <td>0.0</td>\n",
       "      <td>0.187500</td>\n",
       "      <td>-0.211111</td>\n",
       "      <td>0.300000</td>\n",
       "      <td>1.000000</td>\n",
       "      <td>0.028575</td>\n",
       "      <td>0.231866</td>\n",
       "      <td>0.681635</td>\n",
       "      <td>0.028575</td>\n",
       "    </tr>\n",
       "    <tr>\n",
       "      <td>39641</td>\n",
       "      <td>8.0</td>\n",
       "      <td>10.0</td>\n",
       "      <td>442.0</td>\n",
       "      <td>4206.439195</td>\n",
       "      <td>24.0</td>\n",
       "      <td>12.0</td>\n",
       "      <td>8.0</td>\n",
       "      <td>1400.000000</td>\n",
       "      <td>0.0</td>\n",
       "      <td>0.0</td>\n",
       "      <td>...</td>\n",
       "      <td>0.0</td>\n",
       "      <td>0.0</td>\n",
       "      <td>0.423077</td>\n",
       "      <td>-0.356439</td>\n",
       "      <td>0.454545</td>\n",
       "      <td>0.136364</td>\n",
       "      <td>0.025025</td>\n",
       "      <td>0.025207</td>\n",
       "      <td>0.643794</td>\n",
       "      <td>0.146970</td>\n",
       "    </tr>\n",
       "    <tr>\n",
       "      <td>39642</td>\n",
       "      <td>8.0</td>\n",
       "      <td>6.0</td>\n",
       "      <td>682.0</td>\n",
       "      <td>1777.895883</td>\n",
       "      <td>10.0</td>\n",
       "      <td>1.0</td>\n",
       "      <td>5.0</td>\n",
       "      <td>452.000000</td>\n",
       "      <td>0.0</td>\n",
       "      <td>0.0</td>\n",
       "      <td>...</td>\n",
       "      <td>1.0</td>\n",
       "      <td>0.0</td>\n",
       "      <td>0.533333</td>\n",
       "      <td>-0.205246</td>\n",
       "      <td>0.000000</td>\n",
       "      <td>0.000000</td>\n",
       "      <td>0.040003</td>\n",
       "      <td>0.839987</td>\n",
       "      <td>0.040002</td>\n",
       "      <td>0.040004</td>\n",
       "    </tr>\n",
       "    <tr>\n",
       "      <td>39643</td>\n",
       "      <td>8.0</td>\n",
       "      <td>10.0</td>\n",
       "      <td>157.0</td>\n",
       "      <td>3296.909481</td>\n",
       "      <td>1.0</td>\n",
       "      <td>0.0</td>\n",
       "      <td>4.0</td>\n",
       "      <td>2100.000000</td>\n",
       "      <td>0.0</td>\n",
       "      <td>1.0</td>\n",
       "      <td>...</td>\n",
       "      <td>0.0</td>\n",
       "      <td>0.0</td>\n",
       "      <td>0.166667</td>\n",
       "      <td>-0.200000</td>\n",
       "      <td>0.333333</td>\n",
       "      <td>0.250000</td>\n",
       "      <td>0.799339</td>\n",
       "      <td>0.050000</td>\n",
       "      <td>0.050659</td>\n",
       "      <td>0.050001</td>\n",
       "    </tr>\n",
       "  </tbody>\n",
       "</table>\n",
       "<p>32798 rows × 24 columns</p>\n",
       "</div>"
      ],
      "text/plain": [
       "       timedelta  n_tokens_title  n_tokens_content   kw_avg_avg  num_hrefs  \\\n",
       "1          731.0             9.0             255.0     0.000000        3.0   \n",
       "2          731.0             9.0             211.0     0.000000        3.0   \n",
       "3          731.0             9.0             531.0     0.000000        9.0   \n",
       "5          731.0            10.0             370.0     0.000000        2.0   \n",
       "7          731.0            12.0             989.0     0.000000       20.0   \n",
       "...          ...             ...               ...          ...        ...   \n",
       "39639        8.0            11.0             346.0  3031.115764        9.0   \n",
       "39640        8.0            12.0             328.0  3411.660830        9.0   \n",
       "39641        8.0            10.0             442.0  4206.439195       24.0   \n",
       "39642        8.0             6.0             682.0  1777.895883       10.0   \n",
       "39643        8.0            10.0             157.0  3296.909481        1.0   \n",
       "\n",
       "       num_imgs  num_keywords  self_reference_avg_sharess  \\\n",
       "1           1.0           4.0                    0.000000   \n",
       "2           1.0           6.0                  918.000000   \n",
       "3           1.0           7.0                    0.000000   \n",
       "5           0.0           9.0                 8500.000000   \n",
       "7          20.0           9.0                 3151.157895   \n",
       "...         ...           ...                         ...   \n",
       "39639       1.0           8.0                37033.333333   \n",
       "39640       3.0           7.0                 2100.000000   \n",
       "39641      12.0           8.0                 1400.000000   \n",
       "39642       1.0           5.0                  452.000000   \n",
       "39643       0.0           4.0                 2100.000000   \n",
       "\n",
       "       data_channel_is_lifestyle  data_channel_is_entertainment  ...  \\\n",
       "1                            0.0                            0.0  ...   \n",
       "2                            0.0                            0.0  ...   \n",
       "3                            0.0                            1.0  ...   \n",
       "5                            0.0                            0.0  ...   \n",
       "7                            0.0                            0.0  ...   \n",
       "...                          ...                            ...  ...   \n",
       "39639                        0.0                            0.0  ...   \n",
       "39640                        0.0                            0.0  ...   \n",
       "39641                        0.0                            0.0  ...   \n",
       "39642                        0.0                            0.0  ...   \n",
       "39643                        0.0                            1.0  ...   \n",
       "\n",
       "       data_channel_is_world  is_weekend  rate_negative_words  \\\n",
       "1                        0.0         0.0             0.266667   \n",
       "2                        0.0         0.0             0.142857   \n",
       "3                        0.0         0.0             0.333333   \n",
       "5                        0.0         0.0             0.476190   \n",
       "7                        0.0         0.0             0.153061   \n",
       "...                      ...         ...                  ...   \n",
       "39639                    0.0         0.0             0.277778   \n",
       "39640                    0.0         0.0             0.187500   \n",
       "39641                    0.0         0.0             0.423077   \n",
       "39642                    1.0         0.0             0.533333   \n",
       "39643                    0.0         0.0             0.166667   \n",
       "\n",
       "       avg_negative_polarity  title_subjectivity  title_sentiment_polarity  \\\n",
       "1                  -0.118750            0.000000                  0.000000   \n",
       "2                  -0.466667            0.000000                  0.000000   \n",
       "3                  -0.369697            0.000000                  0.000000   \n",
       "5                  -0.195000            0.642857                  0.214286   \n",
       "7                  -0.242778            1.000000                  0.500000   \n",
       "...                      ...                 ...                       ...   \n",
       "39639              -0.260000            0.100000                  0.000000   \n",
       "39640              -0.211111            0.300000                  1.000000   \n",
       "39641              -0.356439            0.454545                  0.136364   \n",
       "39642              -0.205246            0.000000                  0.000000   \n",
       "39643              -0.200000            0.333333                  0.250000   \n",
       "\n",
       "         LDA_01    LDA_02    LDA_03    LDA_04  \n",
       "1      0.050047  0.050096  0.050101  0.050001  \n",
       "2      0.033334  0.033351  0.033334  0.682188  \n",
       "3      0.419300  0.494651  0.028905  0.028572  \n",
       "5      0.306718  0.022231  0.022224  0.626582  \n",
       "7      0.150733  0.243435  0.022224  0.561384  \n",
       "...         ...       ...       ...       ...  \n",
       "39639  0.025001  0.151701  0.025000  0.773260  \n",
       "39640  0.028575  0.231866  0.681635  0.028575  \n",
       "39641  0.025025  0.025207  0.643794  0.146970  \n",
       "39642  0.040003  0.839987  0.040002  0.040004  \n",
       "39643  0.799339  0.050000  0.050659  0.050001  \n",
       "\n",
       "[32798 rows x 24 columns]"
      ]
     },
     "execution_count": 27,
     "metadata": {},
     "output_type": "execute_result"
    }
   ],
   "source": [
    "data_subset"
   ]
  },
  {
   "cell_type": "code",
   "execution_count": 29,
   "metadata": {},
   "outputs": [
    {
     "data": {
      "text/html": [
       "<table class=\"simpletable\">\n",
       "<caption>OLS Regression Results</caption>\n",
       "<tr>\n",
       "  <th>Dep. Variable:</th>       <td>log_shares</td>    <th>  R-squared:         </th> <td>   0.105</td> \n",
       "</tr>\n",
       "<tr>\n",
       "  <th>Model:</th>                   <td>OLS</td>       <th>  Adj. R-squared:    </th> <td>   0.104</td> \n",
       "</tr>\n",
       "<tr>\n",
       "  <th>Method:</th>             <td>Least Squares</td>  <th>  F-statistic:       </th> <td>   160.1</td> \n",
       "</tr>\n",
       "<tr>\n",
       "  <th>Date:</th>             <td>Tue, 26 Nov 2019</td> <th>  Prob (F-statistic):</th>  <td>  0.00</td>  \n",
       "</tr>\n",
       "<tr>\n",
       "  <th>Time:</th>                 <td>10:33:03</td>     <th>  Log-Likelihood:    </th> <td> -24742.</td> \n",
       "</tr>\n",
       "<tr>\n",
       "  <th>No. Observations:</th>      <td> 32798</td>      <th>  AIC:               </th> <td>4.953e+04</td>\n",
       "</tr>\n",
       "<tr>\n",
       "  <th>Df Residuals:</th>          <td> 32773</td>      <th>  BIC:               </th> <td>4.974e+04</td>\n",
       "</tr>\n",
       "<tr>\n",
       "  <th>Df Model:</th>              <td>    24</td>      <th>                     </th>     <td> </td>    \n",
       "</tr>\n",
       "<tr>\n",
       "  <th>Covariance Type:</th>      <td>nonrobust</td>    <th>                     </th>     <td> </td>    \n",
       "</tr>\n",
       "</table>\n",
       "<table class=\"simpletable\">\n",
       "<tr>\n",
       "                <td></td>                   <th>coef</th>     <th>std err</th>      <th>t</th>      <th>P>|t|</th>  <th>[0.025</th>    <th>0.975]</th>  \n",
       "</tr>\n",
       "<tr>\n",
       "  <th>Intercept</th>                     <td>    7.3389</td> <td>    0.032</td> <td>  232.039</td> <td> 0.000</td> <td>    7.277</td> <td>    7.401</td>\n",
       "</tr>\n",
       "<tr>\n",
       "  <th>timedelta</th>                     <td> 9.837e-05</td> <td> 1.45e-05</td> <td>    6.777</td> <td> 0.000</td> <td> 6.99e-05</td> <td>    0.000</td>\n",
       "</tr>\n",
       "<tr>\n",
       "  <th>n_tokens_title</th>                <td>   -0.0026</td> <td>    0.001</td> <td>   -1.848</td> <td> 0.065</td> <td>   -0.005</td> <td>    0.000</td>\n",
       "</tr>\n",
       "<tr>\n",
       "  <th>n_tokens_content</th>              <td> 6.431e-05</td> <td> 7.55e-06</td> <td>    8.523</td> <td> 0.000</td> <td> 4.95e-05</td> <td> 7.91e-05</td>\n",
       "</tr>\n",
       "<tr>\n",
       "  <th>kw_avg_avg</th>                    <td>  5.17e-05</td> <td> 2.83e-06</td> <td>   18.278</td> <td> 0.000</td> <td> 4.62e-05</td> <td> 5.72e-05</td>\n",
       "</tr>\n",
       "<tr>\n",
       "  <th>num_hrefs</th>                     <td>    0.0010</td> <td>    0.000</td> <td>    3.203</td> <td> 0.001</td> <td>    0.000</td> <td>    0.002</td>\n",
       "</tr>\n",
       "<tr>\n",
       "  <th>num_imgs</th>                      <td>    0.0002</td> <td>    0.000</td> <td>    0.396</td> <td> 0.692</td> <td>   -0.001</td> <td>    0.001</td>\n",
       "</tr>\n",
       "<tr>\n",
       "  <th>num_keywords</th>                  <td>    0.0094</td> <td>    0.002</td> <td>    5.984</td> <td> 0.000</td> <td>    0.006</td> <td>    0.012</td>\n",
       "</tr>\n",
       "<tr>\n",
       "  <th>self_reference_avg_sharess</th>    <td> 5.921e-07</td> <td>  1.2e-07</td> <td>    4.949</td> <td> 0.000</td> <td> 3.58e-07</td> <td> 8.27e-07</td>\n",
       "</tr>\n",
       "<tr>\n",
       "  <th>data_channel_is_lifestyle</th>     <td>   -0.0939</td> <td>    0.014</td> <td>   -6.765</td> <td> 0.000</td> <td>   -0.121</td> <td>   -0.067</td>\n",
       "</tr>\n",
       "<tr>\n",
       "  <th>data_channel_is_entertainment</th> <td>   -0.1579</td> <td>    0.011</td> <td>  -14.299</td> <td> 0.000</td> <td>   -0.180</td> <td>   -0.136</td>\n",
       "</tr>\n",
       "<tr>\n",
       "  <th>data_channel_is_bus</th>           <td>   -0.1793</td> <td>    0.015</td> <td>  -12.219</td> <td> 0.000</td> <td>   -0.208</td> <td>   -0.151</td>\n",
       "</tr>\n",
       "<tr>\n",
       "  <th>global_rate_positive_words</th>    <td>   -0.9437</td> <td>    0.244</td> <td>   -3.871</td> <td> 0.000</td> <td>   -1.422</td> <td>   -0.466</td>\n",
       "</tr>\n",
       "<tr>\n",
       "  <th>global_rate_negative_words</th>    <td>    2.1291</td> <td>    0.566</td> <td>    3.762</td> <td> 0.000</td> <td>    1.020</td> <td>    3.238</td>\n",
       "</tr>\n",
       "<tr>\n",
       "  <th>data_channel_is_socmed</th>        <td>    0.1317</td> <td>    0.015</td> <td>    8.964</td> <td> 0.000</td> <td>    0.103</td> <td>    0.160</td>\n",
       "</tr>\n",
       "<tr>\n",
       "  <th>data_channel_is_world</th>         <td>   -0.1227</td> <td>    0.014</td> <td>   -8.799</td> <td> 0.000</td> <td>   -0.150</td> <td>   -0.095</td>\n",
       "</tr>\n",
       "<tr>\n",
       "  <th>is_weekend</th>                    <td>    0.2189</td> <td>    0.008</td> <td>   25.942</td> <td> 0.000</td> <td>    0.202</td> <td>    0.235</td>\n",
       "</tr>\n",
       "<tr>\n",
       "  <th>rate_negative_words</th>           <td>   -0.2384</td> <td>    0.043</td> <td>   -5.594</td> <td> 0.000</td> <td>   -0.322</td> <td>   -0.155</td>\n",
       "</tr>\n",
       "<tr>\n",
       "  <th>avg_negative_polarity</th>         <td>   -0.0394</td> <td>    0.026</td> <td>   -1.539</td> <td> 0.124</td> <td>   -0.090</td> <td>    0.011</td>\n",
       "</tr>\n",
       "<tr>\n",
       "  <th>title_subjectivity</th>            <td>    0.0197</td> <td>    0.009</td> <td>    2.111</td> <td> 0.035</td> <td>    0.001</td> <td>    0.038</td>\n",
       "</tr>\n",
       "<tr>\n",
       "  <th>title_sentiment_polarity</th>      <td>    0.0294</td> <td>    0.012</td> <td>    2.551</td> <td> 0.011</td> <td>    0.007</td> <td>    0.052</td>\n",
       "</tr>\n",
       "<tr>\n",
       "  <th>LDA_01</th>                        <td>   -0.3179</td> <td>    0.025</td> <td>  -12.896</td> <td> 0.000</td> <td>   -0.366</td> <td>   -0.270</td>\n",
       "</tr>\n",
       "<tr>\n",
       "  <th>LDA_02</th>                        <td>   -0.3318</td> <td>    0.024</td> <td>  -13.624</td> <td> 0.000</td> <td>   -0.379</td> <td>   -0.284</td>\n",
       "</tr>\n",
       "<tr>\n",
       "  <th>LDA_03</th>                        <td>   -0.2873</td> <td>    0.022</td> <td>  -13.038</td> <td> 0.000</td> <td>   -0.330</td> <td>   -0.244</td>\n",
       "</tr>\n",
       "<tr>\n",
       "  <th>LDA_04</th>                        <td>   -0.1469</td> <td>    0.021</td> <td>   -6.963</td> <td> 0.000</td> <td>   -0.188</td> <td>   -0.106</td>\n",
       "</tr>\n",
       "</table>\n",
       "<table class=\"simpletable\">\n",
       "<tr>\n",
       "  <th>Omnibus:</th>       <td>1593.435</td> <th>  Durbin-Watson:     </th> <td>   1.951</td>\n",
       "</tr>\n",
       "<tr>\n",
       "  <th>Prob(Omnibus):</th>  <td> 0.000</td>  <th>  Jarque-Bera (JB):  </th> <td>1666.524</td>\n",
       "</tr>\n",
       "<tr>\n",
       "  <th>Skew:</th>           <td> 0.521</td>  <th>  Prob(JB):          </th> <td>    0.00</td>\n",
       "</tr>\n",
       "<tr>\n",
       "  <th>Kurtosis:</th>       <td> 2.636</td>  <th>  Cond. No.          </th> <td>5.14e+06</td>\n",
       "</tr>\n",
       "</table><br/><br/>Warnings:<br/>[1] Standard Errors assume that the covariance matrix of the errors is correctly specified.<br/>[2] The condition number is large, 5.14e+06. This might indicate that there are<br/>strong multicollinearity or other numerical problems."
      ],
      "text/plain": [
       "<class 'statsmodels.iolib.summary.Summary'>\n",
       "\"\"\"\n",
       "                            OLS Regression Results                            \n",
       "==============================================================================\n",
       "Dep. Variable:             log_shares   R-squared:                       0.105\n",
       "Model:                            OLS   Adj. R-squared:                  0.104\n",
       "Method:                 Least Squares   F-statistic:                     160.1\n",
       "Date:                Tue, 26 Nov 2019   Prob (F-statistic):               0.00\n",
       "Time:                        10:33:03   Log-Likelihood:                -24742.\n",
       "No. Observations:               32798   AIC:                         4.953e+04\n",
       "Df Residuals:                   32773   BIC:                         4.974e+04\n",
       "Df Model:                          24                                         \n",
       "Covariance Type:            nonrobust                                         \n",
       "=================================================================================================\n",
       "                                    coef    std err          t      P>|t|      [0.025      0.975]\n",
       "-------------------------------------------------------------------------------------------------\n",
       "Intercept                         7.3389      0.032    232.039      0.000       7.277       7.401\n",
       "timedelta                      9.837e-05   1.45e-05      6.777      0.000    6.99e-05       0.000\n",
       "n_tokens_title                   -0.0026      0.001     -1.848      0.065      -0.005       0.000\n",
       "n_tokens_content               6.431e-05   7.55e-06      8.523      0.000    4.95e-05    7.91e-05\n",
       "kw_avg_avg                      5.17e-05   2.83e-06     18.278      0.000    4.62e-05    5.72e-05\n",
       "num_hrefs                         0.0010      0.000      3.203      0.001       0.000       0.002\n",
       "num_imgs                          0.0002      0.000      0.396      0.692      -0.001       0.001\n",
       "num_keywords                      0.0094      0.002      5.984      0.000       0.006       0.012\n",
       "self_reference_avg_sharess     5.921e-07    1.2e-07      4.949      0.000    3.58e-07    8.27e-07\n",
       "data_channel_is_lifestyle        -0.0939      0.014     -6.765      0.000      -0.121      -0.067\n",
       "data_channel_is_entertainment    -0.1579      0.011    -14.299      0.000      -0.180      -0.136\n",
       "data_channel_is_bus              -0.1793      0.015    -12.219      0.000      -0.208      -0.151\n",
       "global_rate_positive_words       -0.9437      0.244     -3.871      0.000      -1.422      -0.466\n",
       "global_rate_negative_words        2.1291      0.566      3.762      0.000       1.020       3.238\n",
       "data_channel_is_socmed            0.1317      0.015      8.964      0.000       0.103       0.160\n",
       "data_channel_is_world            -0.1227      0.014     -8.799      0.000      -0.150      -0.095\n",
       "is_weekend                        0.2189      0.008     25.942      0.000       0.202       0.235\n",
       "rate_negative_words              -0.2384      0.043     -5.594      0.000      -0.322      -0.155\n",
       "avg_negative_polarity            -0.0394      0.026     -1.539      0.124      -0.090       0.011\n",
       "title_subjectivity                0.0197      0.009      2.111      0.035       0.001       0.038\n",
       "title_sentiment_polarity          0.0294      0.012      2.551      0.011       0.007       0.052\n",
       "LDA_01                           -0.3179      0.025    -12.896      0.000      -0.366      -0.270\n",
       "LDA_02                           -0.3318      0.024    -13.624      0.000      -0.379      -0.284\n",
       "LDA_03                           -0.2873      0.022    -13.038      0.000      -0.330      -0.244\n",
       "LDA_04                           -0.1469      0.021     -6.963      0.000      -0.188      -0.106\n",
       "==============================================================================\n",
       "Omnibus:                     1593.435   Durbin-Watson:                   1.951\n",
       "Prob(Omnibus):                  0.000   Jarque-Bera (JB):             1666.524\n",
       "Skew:                           0.521   Prob(JB):                         0.00\n",
       "Kurtosis:                       2.636   Cond. No.                     5.14e+06\n",
       "==============================================================================\n",
       "\n",
       "Warnings:\n",
       "[1] Standard Errors assume that the covariance matrix of the errors is correctly specified.\n",
       "[2] The condition number is large, 5.14e+06. This might indicate that there are\n",
       "strong multicollinearity or other numerical problems.\n",
       "\"\"\""
      ]
     },
     "execution_count": 29,
     "metadata": {},
     "output_type": "execute_result"
    }
   ],
   "source": [
    "model = ols_model(data_subset, y)\n",
    "model.summary()"
   ]
  },
  {
   "cell_type": "code",
   "execution_count": 30,
   "metadata": {},
   "outputs": [
    {
     "data": {
      "image/png": "[encoded data removed]",
      "text/plain": [
       "<Figure size 432x288 with 1 Axes>"
      ]
     },
     "metadata": {
      "needs_background": "light"
     },
     "output_type": "display_data"
    }
   ],
   "source": [
    "qq_plot(model, data_subset, y)"
   ]
  },
  {
   "cell_type": "code",
   "execution_count": 31,
   "metadata": {},
   "outputs": [],
   "source": [
    "high_p_vals = ['n_tokens_title', 'num_imgs', 'avg_negative_polarity']\n",
    "data_subset.drop(high_p_vals, axis= 1, inplace= True)"
   ]
  },
  {
   "cell_type": "code",
   "execution_count": 33,
   "metadata": {},
   "outputs": [
    {
     "data": {
      "text/html": [
       "<table class=\"simpletable\">\n",
       "<caption>OLS Regression Results</caption>\n",
       "<tr>\n",
       "  <th>Dep. Variable:</th>       <td>log_shares</td>    <th>  R-squared:         </th> <td>   0.105</td> \n",
       "</tr>\n",
       "<tr>\n",
       "  <th>Model:</th>                   <td>OLS</td>       <th>  Adj. R-squared:    </th> <td>   0.104</td> \n",
       "</tr>\n",
       "<tr>\n",
       "  <th>Method:</th>             <td>Least Squares</td>  <th>  F-statistic:       </th> <td>   182.7</td> \n",
       "</tr>\n",
       "<tr>\n",
       "  <th>Date:</th>             <td>Tue, 26 Nov 2019</td> <th>  Prob (F-statistic):</th>  <td>  0.00</td>  \n",
       "</tr>\n",
       "<tr>\n",
       "  <th>Time:</th>                 <td>10:34:24</td>     <th>  Log-Likelihood:    </th> <td> -24745.</td> \n",
       "</tr>\n",
       "<tr>\n",
       "  <th>No. Observations:</th>      <td> 32798</td>      <th>  AIC:               </th> <td>4.953e+04</td>\n",
       "</tr>\n",
       "<tr>\n",
       "  <th>Df Residuals:</th>          <td> 32776</td>      <th>  BIC:               </th> <td>4.972e+04</td>\n",
       "</tr>\n",
       "<tr>\n",
       "  <th>Df Model:</th>              <td>    21</td>      <th>                     </th>     <td> </td>    \n",
       "</tr>\n",
       "<tr>\n",
       "  <th>Covariance Type:</th>      <td>nonrobust</td>    <th>                     </th>     <td> </td>    \n",
       "</tr>\n",
       "</table>\n",
       "<table class=\"simpletable\">\n",
       "<tr>\n",
       "                <td></td>                   <th>coef</th>     <th>std err</th>      <th>t</th>      <th>P>|t|</th>  <th>[0.025</th>    <th>0.975]</th>  \n",
       "</tr>\n",
       "<tr>\n",
       "  <th>Intercept</th>                     <td>    7.3131</td> <td>    0.028</td> <td>  262.919</td> <td> 0.000</td> <td>    7.259</td> <td>    7.368</td>\n",
       "</tr>\n",
       "<tr>\n",
       "  <th>timedelta</th>                     <td>    0.0001</td> <td> 1.42e-05</td> <td>    7.319</td> <td> 0.000</td> <td>  7.6e-05</td> <td>    0.000</td>\n",
       "</tr>\n",
       "<tr>\n",
       "  <th>n_tokens_content</th>              <td> 6.531e-05</td> <td> 7.15e-06</td> <td>    9.139</td> <td> 0.000</td> <td> 5.13e-05</td> <td> 7.93e-05</td>\n",
       "</tr>\n",
       "<tr>\n",
       "  <th>kw_avg_avg</th>                    <td>   5.2e-05</td> <td> 2.82e-06</td> <td>   18.410</td> <td> 0.000</td> <td> 4.65e-05</td> <td> 5.75e-05</td>\n",
       "</tr>\n",
       "<tr>\n",
       "  <th>num_hrefs</th>                     <td>    0.0011</td> <td>    0.000</td> <td>    3.544</td> <td> 0.000</td> <td>    0.000</td> <td>    0.002</td>\n",
       "</tr>\n",
       "<tr>\n",
       "  <th>num_keywords</th>                  <td>    0.0093</td> <td>    0.002</td> <td>    5.927</td> <td> 0.000</td> <td>    0.006</td> <td>    0.012</td>\n",
       "</tr>\n",
       "<tr>\n",
       "  <th>self_reference_avg_sharess</th>    <td> 5.957e-07</td> <td>  1.2e-07</td> <td>    4.981</td> <td> 0.000</td> <td> 3.61e-07</td> <td>  8.3e-07</td>\n",
       "</tr>\n",
       "<tr>\n",
       "  <th>data_channel_is_lifestyle</th>     <td>   -0.0928</td> <td>    0.014</td> <td>   -6.691</td> <td> 0.000</td> <td>   -0.120</td> <td>   -0.066</td>\n",
       "</tr>\n",
       "<tr>\n",
       "  <th>data_channel_is_entertainment</th> <td>   -0.1593</td> <td>    0.011</td> <td>  -14.485</td> <td> 0.000</td> <td>   -0.181</td> <td>   -0.138</td>\n",
       "</tr>\n",
       "<tr>\n",
       "  <th>data_channel_is_bus</th>           <td>   -0.1808</td> <td>    0.015</td> <td>  -12.335</td> <td> 0.000</td> <td>   -0.210</td> <td>   -0.152</td>\n",
       "</tr>\n",
       "<tr>\n",
       "  <th>global_rate_positive_words</th>    <td>   -0.8571</td> <td>    0.236</td> <td>   -3.635</td> <td> 0.000</td> <td>   -1.319</td> <td>   -0.395</td>\n",
       "</tr>\n",
       "<tr>\n",
       "  <th>global_rate_negative_words</th>    <td>    2.0625</td> <td>    0.564</td> <td>    3.655</td> <td> 0.000</td> <td>    0.957</td> <td>    3.168</td>\n",
       "</tr>\n",
       "<tr>\n",
       "  <th>data_channel_is_socmed</th>        <td>    0.1322</td> <td>    0.015</td> <td>    9.004</td> <td> 0.000</td> <td>    0.103</td> <td>    0.161</td>\n",
       "</tr>\n",
       "<tr>\n",
       "  <th>data_channel_is_world</th>         <td>   -0.1232</td> <td>    0.014</td> <td>   -8.858</td> <td> 0.000</td> <td>   -0.150</td> <td>   -0.096</td>\n",
       "</tr>\n",
       "<tr>\n",
       "  <th>is_weekend</th>                    <td>    0.2191</td> <td>    0.008</td> <td>   25.971</td> <td> 0.000</td> <td>    0.203</td> <td>    0.236</td>\n",
       "</tr>\n",
       "<tr>\n",
       "  <th>rate_negative_words</th>           <td>   -0.2216</td> <td>    0.041</td> <td>   -5.384</td> <td> 0.000</td> <td>   -0.302</td> <td>   -0.141</td>\n",
       "</tr>\n",
       "<tr>\n",
       "  <th>title_subjectivity</th>            <td>    0.0192</td> <td>    0.009</td> <td>    2.058</td> <td> 0.040</td> <td>    0.001</td> <td>    0.037</td>\n",
       "</tr>\n",
       "<tr>\n",
       "  <th>title_sentiment_polarity</th>      <td>    0.0281</td> <td>    0.011</td> <td>    2.448</td> <td> 0.014</td> <td>    0.006</td> <td>    0.051</td>\n",
       "</tr>\n",
       "<tr>\n",
       "  <th>LDA_01</th>                        <td>   -0.3171</td> <td>    0.025</td> <td>  -12.914</td> <td> 0.000</td> <td>   -0.365</td> <td>   -0.269</td>\n",
       "</tr>\n",
       "<tr>\n",
       "  <th>LDA_02</th>                        <td>   -0.3335</td> <td>    0.024</td> <td>  -13.714</td> <td> 0.000</td> <td>   -0.381</td> <td>   -0.286</td>\n",
       "</tr>\n",
       "<tr>\n",
       "  <th>LDA_03</th>                        <td>   -0.2866</td> <td>    0.022</td> <td>  -13.125</td> <td> 0.000</td> <td>   -0.329</td> <td>   -0.244</td>\n",
       "</tr>\n",
       "<tr>\n",
       "  <th>LDA_04</th>                        <td>   -0.1488</td> <td>    0.021</td> <td>   -7.063</td> <td> 0.000</td> <td>   -0.190</td> <td>   -0.107</td>\n",
       "</tr>\n",
       "</table>\n",
       "<table class=\"simpletable\">\n",
       "<tr>\n",
       "  <th>Omnibus:</th>       <td>1593.207</td> <th>  Durbin-Watson:     </th> <td>   1.951</td>\n",
       "</tr>\n",
       "<tr>\n",
       "  <th>Prob(Omnibus):</th>  <td> 0.000</td>  <th>  Jarque-Bera (JB):  </th> <td>1665.632</td>\n",
       "</tr>\n",
       "<tr>\n",
       "  <th>Skew:</th>           <td> 0.521</td>  <th>  Prob(JB):          </th> <td>    0.00</td>\n",
       "</tr>\n",
       "<tr>\n",
       "  <th>Kurtosis:</th>       <td> 2.636</td>  <th>  Cond. No.          </th> <td>5.12e+06</td>\n",
       "</tr>\n",
       "</table><br/><br/>Warnings:<br/>[1] Standard Errors assume that the covariance matrix of the errors is correctly specified.<br/>[2] The condition number is large, 5.12e+06. This might indicate that there are<br/>strong multicollinearity or other numerical problems."
      ],
      "text/plain": [
       "<class 'statsmodels.iolib.summary.Summary'>\n",
       "\"\"\"\n",
       "                            OLS Regression Results                            \n",
       "==============================================================================\n",
       "Dep. Variable:             log_shares   R-squared:                       0.105\n",
       "Model:                            OLS   Adj. R-squared:                  0.104\n",
       "Method:                 Least Squares   F-statistic:                     182.7\n",
       "Date:                Tue, 26 Nov 2019   Prob (F-statistic):               0.00\n",
       "Time:                        10:34:24   Log-Likelihood:                -24745.\n",
       "No. Observations:               32798   AIC:                         4.953e+04\n",
       "Df Residuals:                   32776   BIC:                         4.972e+04\n",
       "Df Model:                          21                                         \n",
       "Covariance Type:            nonrobust                                         \n",
       "=================================================================================================\n",
       "                                    coef    std err          t      P>|t|      [0.025      0.975]\n",
       "-------------------------------------------------------------------------------------------------\n",
       "Intercept                         7.3131      0.028    262.919      0.000       7.259       7.368\n",
       "timedelta                         0.0001   1.42e-05      7.319      0.000     7.6e-05       0.000\n",
       "n_tokens_content               6.531e-05   7.15e-06      9.139      0.000    5.13e-05    7.93e-05\n",
       "kw_avg_avg                       5.2e-05   2.82e-06     18.410      0.000    4.65e-05    5.75e-05\n",
       "num_hrefs                         0.0011      0.000      3.544      0.000       0.000       0.002\n",
       "num_keywords                      0.0093      0.002      5.927      0.000       0.006       0.012\n",
       "self_reference_avg_sharess     5.957e-07    1.2e-07      4.981      0.000    3.61e-07     8.3e-07\n",
       "data_channel_is_lifestyle        -0.0928      0.014     -6.691      0.000      -0.120      -0.066\n",
       "data_channel_is_entertainment    -0.1593      0.011    -14.485      0.000      -0.181      -0.138\n",
       "data_channel_is_bus              -0.1808      0.015    -12.335      0.000      -0.210      -0.152\n",
       "global_rate_positive_words       -0.8571      0.236     -3.635      0.000      -1.319      -0.395\n",
       "global_rate_negative_words        2.0625      0.564      3.655      0.000       0.957       3.168\n",
       "data_channel_is_socmed            0.1322      0.015      9.004      0.000       0.103       0.161\n",
       "data_channel_is_world            -0.1232      0.014     -8.858      0.000      -0.150      -0.096\n",
       "is_weekend                        0.2191      0.008     25.971      0.000       0.203       0.236\n",
       "rate_negative_words              -0.2216      0.041     -5.384      0.000      -0.302      -0.141\n",
       "title_subjectivity                0.0192      0.009      2.058      0.040       0.001       0.037\n",
       "title_sentiment_polarity          0.0281      0.011      2.448      0.014       0.006       0.051\n",
       "LDA_01                           -0.3171      0.025    -12.914      0.000      -0.365      -0.269\n",
       "LDA_02                           -0.3335      0.024    -13.714      0.000      -0.381      -0.286\n",
       "LDA_03                           -0.2866      0.022    -13.125      0.000      -0.329      -0.244\n",
       "LDA_04                           -0.1488      0.021     -7.063      0.000      -0.190      -0.107\n",
       "==============================================================================\n",
       "Omnibus:                     1593.207   Durbin-Watson:                   1.951\n",
       "Prob(Omnibus):                  0.000   Jarque-Bera (JB):             1665.632\n",
       "Skew:                           0.521   Prob(JB):                         0.00\n",
       "Kurtosis:                       2.636   Cond. No.                     5.12e+06\n",
       "==============================================================================\n",
       "\n",
       "Warnings:\n",
       "[1] Standard Errors assume that the covariance matrix of the errors is correctly specified.\n",
       "[2] The condition number is large, 5.12e+06. This might indicate that there are\n",
       "strong multicollinearity or other numerical problems.\n",
       "\"\"\""
      ]
     },
     "execution_count": 33,
     "metadata": {},
     "output_type": "execute_result"
    }
   ],
   "source": [
    "model = ols_model(data_subset, y)\n",
    "model.summary()"
   ]
  },
  {
   "cell_type": "code",
   "execution_count": 34,
   "metadata": {},
   "outputs": [
    {
     "data": {
      "image/png": "[encoded data removed]",
      "text/plain": [
       "<Figure size 432x288 with 1 Axes>"
      ]
     },
     "metadata": {
      "needs_background": "light"
     },
     "output_type": "display_data"
    }
   ],
   "source": [
    "qq_plot(model, data_subset, y)"
   ]
  },
  {
   "cell_type": "code",
   "execution_count": 35,
   "metadata": {},
   "outputs": [],
   "source": [
    "X_train, X_test, y_train, y_test = train_test_split(data_subset, y, test_size = 0.25, random_state= 42)"
   ]
  },
  {
   "cell_type": "code",
   "execution_count": 36,
   "metadata": {},
   "outputs": [
    {
     "name": "stdout",
     "output_type": "stream",
     "text": [
      "Training R^2 : 0.1435\n",
      "Training Root Mean Square Error 0.5033\n",
      "\n",
      "----------------\n",
      "\n",
      "Testing R^2 : 0.1255\n",
      "Testing Root Mean Square Error 0.5086\n"
     ]
    }
   ],
   "source": [
    "compare_poly(X_train, X_test, y_train, y_test, degrees = 2)"
   ]
  },
  {
   "cell_type": "code",
   "execution_count": 24,
   "metadata": {},
   "outputs": [],
   "source": [
    "from sklearn.linear_model import LinearRegression"
   ]
  },
  {
   "cell_type": "code",
   "execution_count": 25,
   "metadata": {},
   "outputs": [],
   "source": [
    "linreg = LinearRegression()\n",
    "X = df[x_cols]\n",
    "y = df['shares']"
   ]
  },
  {
   "cell_type": "code",
   "execution_count": 27,
   "metadata": {},
   "outputs": [
    {
     "data": {
      "text/plain": [
       "<bound method RegressorMixin.score of LinearRegression(copy_X=True, fit_intercept=True, n_jobs=None, normalize=False)>"
      ]
     },
     "execution_count": 27,
     "metadata": {},
     "output_type": "execute_result"
    }
   ],
   "source": [
    "model = linreg.fit(X,y)\n"
   ]
  },
  {
   "cell_type": "code",
   "execution_count": 30,
   "metadata": {},
   "outputs": [
    {
     "data": {
      "text/plain": [
       "0.013505789169179327"
      ]
     },
     "execution_count": 30,
     "metadata": {},
     "output_type": "execute_result"
    }
   ],
   "source": [
    "model.score(X,y)"
   ]
  },
  {
   "cell_type": "code",
   "execution_count": 31,
   "metadata": {},
   "outputs": [],
   "source": [
    "y_hat = model.predict(X)"
   ]
  },
  {
   "cell_type": "code",
   "execution_count": 32,
   "metadata": {},
   "outputs": [],
   "source": [
    "resid = y - y_hat"
   ]
  },
  {
   "cell_type": "code",
   "execution_count": 34,
   "metadata": {},
   "outputs": [
    {
     "data": {
      "text/plain": [
       "<matplotlib.axes._subplots.AxesSubplot at 0x1a1ceefcf8>"
      ]
     },
     "execution_count": 34,
     "metadata": {},
     "output_type": "execute_result"
    },
    {
     "data": {
      "image/png": "[encoded data removed]",
      "text/plain": [
       "<Figure size 432x288 with 1 Axes>"
      ]
     },
     "metadata": {
      "needs_background": "light"
     },
     "output_type": "display_data"
    }
   ],
   "source": [
    "resid.plot()"
   ]
  },
  {
   "cell_type": "code",
   "execution_count": 37,
   "metadata": {},
   "outputs": [],
   "source": [
    "from sklearn.linear_model import Lasso, LassoLarsIC"
   ]
  },
  {
   "cell_type": "code",
   "execution_count": 37,
   "metadata": {},
   "outputs": [
    {
     "name": "stderr",
     "output_type": "stream",
     "text": [
      "//anaconda3/envs/learn-env/lib/python3.6/site-packages/sklearn/linear_model/coordinate_descent.py:475: ConvergenceWarning: Objective did not converge. You might want to increase the number of iterations. Duality gap: 2048108456577.1255, tolerance: 535917795.22778714\n",
      "  positive)\n"
     ]
    }
   ],
   "source": [
    "lasso = Lasso()\n",
    "model = lasso.fit(X,y)"
   ]
  },
  {
   "cell_type": "code",
   "execution_count": 38,
   "metadata": {},
   "outputs": [
    {
     "data": {
      "text/plain": [
       "0.013345042008881314"
      ]
     },
     "execution_count": 38,
     "metadata": {},
     "output_type": "execute_result"
    }
   ],
   "source": [
    "model.score(X,y)"
   ]
  },
  {
   "cell_type": "code",
   "execution_count": 39,
   "metadata": {},
   "outputs": [],
   "source": [
    "y_hat = model.predict(X)"
   ]
  },
  {
   "cell_type": "code",
   "execution_count": 40,
   "metadata": {},
   "outputs": [
    {
     "data": {
      "text/plain": [
       "<matplotlib.axes._subplots.AxesSubplot at 0x1a1cef0a90>"
      ]
     },
     "execution_count": 40,
     "metadata": {},
     "output_type": "execute_result"
    },
    {
     "data": {
      "image/png": "[encoded data removed]",
      "text/plain": [
       "<Figure size 432x288 with 1 Axes>"
      ]
     },
     "metadata": {
      "needs_background": "light"
     },
     "output_type": "display_data"
    }
   ],
   "source": [
    "resid = y - y_hat\n",
    "resid.plot()"
   ]
  },
  {
   "cell_type": "code",
   "execution_count": 42,
   "metadata": {},
   "outputs": [],
   "source": [
    "lasso_ic = LassoLarsIC()"
   ]
  },
  {
   "cell_type": "code",
   "execution_count": 43,
   "metadata": {},
   "outputs": [],
   "source": [
    "model = lasso_ic.fit(X,y)"
   ]
  },
  {
   "cell_type": "code",
   "execution_count": 44,
   "metadata": {},
   "outputs": [
    {
     "data": {
      "text/plain": [
       "0.013075050589792636"
      ]
     },
     "execution_count": 44,
     "metadata": {},
     "output_type": "execute_result"
    }
   ],
   "source": [
    "model.score(X,y)"
   ]
  },
  {
   "cell_type": "code",
   "execution_count": 45,
   "metadata": {},
   "outputs": [],
   "source": [
    "from sklearn.linear_model import LassoLarsCV"
   ]
  },
  {
   "cell_type": "code",
   "execution_count": 46,
   "metadata": {},
   "outputs": [],
   "source": [
    "lasso_cv = LassoLarsCV()"
   ]
  },
  {
   "cell_type": "code",
   "execution_count": 47,
   "metadata": {},
   "outputs": [
    {
     "name": "stderr",
     "output_type": "stream",
     "text": [
      "//anaconda3/envs/learn-env/lib/python3.6/site-packages/sklearn/model_selection/_split.py:1978: FutureWarning: The default value of cv will change from 3 to 5 in version 0.22. Specify it explicitly to silence this warning.\n",
      "  warnings.warn(CV_WARNING, FutureWarning)\n"
     ]
    }
   ],
   "source": [
    "model = lasso_cv.fit(X,y)"
   ]
  },
  {
   "cell_type": "code",
   "execution_count": 48,
   "metadata": {},
   "outputs": [
    {
     "data": {
      "text/plain": [
       "0.012025097700922416"
      ]
     },
     "execution_count": 48,
     "metadata": {},
     "output_type": "execute_result"
    }
   ],
   "source": [
    "model.score(X,y)"
   ]
  },
  {
   "cell_type": "code",
   "execution_count": 49,
   "metadata": {},
   "outputs": [
    {
     "data": {
      "text/plain": [
       "array([ 4.80598886e+01,  0.00000000e+00,  0.00000000e+00,  0.00000000e+00,\n",
       "        0.00000000e+00,  2.81389853e+01,  1.95331857e+01,  1.84051189e+01,\n",
       "       -2.94161578e+02,  5.58090262e+01, -9.13008353e+02, -1.82365961e+03,\n",
       "       -1.30963045e+03, -8.33713775e+02, -1.43759126e+03, -2.23342633e+03,\n",
       "        2.12396946e+02,  0.00000000e+00,  0.00000000e+00, -1.04283375e-01,\n",
       "        0.00000000e+00,  3.20567464e+02,  0.00000000e+00,  0.00000000e+00,\n",
       "        0.00000000e+00,  0.00000000e+00,  0.00000000e+00,  0.00000000e+00,\n",
       "       -2.12545513e+03,  0.00000000e+00, -1.48089166e+02,  0.00000000e+00,\n",
       "        0.00000000e+00,  2.50076595e+02,  5.65740305e+02])"
      ]
     },
     "execution_count": 49,
     "metadata": {},
     "output_type": "execute_result"
    }
   ],
   "source": [
    "model.coef_"
   ]
  },
  {
   "cell_type": "code",
   "execution_count": 37,
   "metadata": {},
   "outputs": [
    {
     "name": "stdout",
     "output_type": "stream",
     "text": [
      "logtarget\n"
     ]
    }
   ],
   "source": [
    "y = 'log'+'target'\n",
    "print(y)"
   ]
  },
  {
   "cell_type": "code",
   "execution_count": null,
   "metadata": {},
   "outputs": [],
   "source": []
  }
 ],
 "metadata": {
  "kernelspec": {
   "display_name": "Python [conda env:learn-env] *",
   "language": "python",
   "name": "conda-env-learn-env-py"
  },
  "language_info": {
   "codemirror_mode": {
    "name": "ipython",
    "version": 3
   },
   "file_extension": ".py",
   "mimetype": "text/x-python",
   "name": "python",
   "nbconvert_exporter": "python",
   "pygments_lexer": "ipython3",
   "version": "3.6.9"
  }
 },
 "nbformat": 4,
 "nbformat_minor": 2
}
